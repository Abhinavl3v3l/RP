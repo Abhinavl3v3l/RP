{
 "cells": [
  {
   "cell_type": "markdown",
   "metadata": {},
   "source": [
    "# Part 1. Exploratory data analysis\n",
    "\n",
    "\n",
    "## Data Overview\n",
    "\n",
    "Getting the know and understand of data."
   ]
  },
  {
   "cell_type": "code",
   "execution_count": 4,
   "metadata": {},
   "outputs": [],
   "source": [
    "#importing libs\n",
    "\n",
    "import pandas as pd \n",
    "import numpy as np\n",
    "\n",
    "import matplotlib.pyplot as plt\n",
    "%matplotlib inline\n",
    "import seaborn as sb\n",
    "sb.set(style=\"ticks\")\n",
    "\n",
    "#Modeling\n",
    "from sklearn.model_selection import train_test_split\n",
    "from sklearn.linear_model import LogisticRegression ,SGDClassifier\n",
    "from sklearn.metrics import confusion_matrix,accuracy_score,classification_report\n",
    "from sklearn.preprocessing import StandardScaler,MinMaxScaler\n",
    "\n",
    "#References - https://github.com/uber/h3-py\n",
    "#           - https://github.com/uber/h3-py-notebooks\n",
    "from h3 import h3"
   ]
  },
  {
   "cell_type": "code",
   "execution_count": 5,
   "metadata": {},
   "outputs": [
    {
     "data": {
      "text/html": [
       "<div>\n",
       "<style scoped>\n",
       "    .dataframe tbody tr th:only-of-type {\n",
       "        vertical-align: middle;\n",
       "    }\n",
       "\n",
       "    .dataframe tbody tr th {\n",
       "        vertical-align: top;\n",
       "    }\n",
       "\n",
       "    .dataframe thead th {\n",
       "        text-align: right;\n",
       "    }\n",
       "</style>\n",
       "<table border=\"1\" class=\"dataframe\">\n",
       "  <thead>\n",
       "    <tr style=\"text-align: right;\">\n",
       "      <th></th>\n",
       "      <th>trip_id</th>\n",
       "      <th>customer_id</th>\n",
       "      <th>timestamp</th>\n",
       "      <th>pick_lat</th>\n",
       "      <th>pick_lng</th>\n",
       "      <th>drop_lat</th>\n",
       "      <th>drop_lng</th>\n",
       "      <th>travel_distance</th>\n",
       "      <th>travel_time</th>\n",
       "      <th>trip_fare</th>\n",
       "    </tr>\n",
       "  </thead>\n",
       "  <tbody>\n",
       "    <tr>\n",
       "      <th>0</th>\n",
       "      <td>ID001</td>\n",
       "      <td>CUST_001</td>\n",
       "      <td>1546709270211</td>\n",
       "      <td>17.442705</td>\n",
       "      <td>78.387878</td>\n",
       "      <td>17.457829</td>\n",
       "      <td>78.399056</td>\n",
       "      <td>2.806</td>\n",
       "      <td>12.609667</td>\n",
       "      <td>37</td>\n",
       "    </tr>\n",
       "    <tr>\n",
       "      <th>1</th>\n",
       "      <td>ID002</td>\n",
       "      <td>CUST_002</td>\n",
       "      <td>1546709309524</td>\n",
       "      <td>17.490189</td>\n",
       "      <td>78.415512</td>\n",
       "      <td>17.450548</td>\n",
       "      <td>78.367294</td>\n",
       "      <td>11.991</td>\n",
       "      <td>24.075200</td>\n",
       "      <td>119</td>\n",
       "    </tr>\n",
       "    <tr>\n",
       "      <th>2</th>\n",
       "      <td>ID003</td>\n",
       "      <td>CUST_003</td>\n",
       "      <td>1546709331857</td>\n",
       "      <td>17.370108</td>\n",
       "      <td>78.515045</td>\n",
       "      <td>17.377041</td>\n",
       "      <td>78.517921</td>\n",
       "      <td>1.322</td>\n",
       "      <td>8.708300</td>\n",
       "      <td>27</td>\n",
       "    </tr>\n",
       "    <tr>\n",
       "      <th>3</th>\n",
       "      <td>ID004</td>\n",
       "      <td>CUST_004</td>\n",
       "      <td>1546709358403</td>\n",
       "      <td>17.439314</td>\n",
       "      <td>78.443001</td>\n",
       "      <td>17.397131</td>\n",
       "      <td>78.516586</td>\n",
       "      <td>11.822</td>\n",
       "      <td>24.037550</td>\n",
       "      <td>121</td>\n",
       "    </tr>\n",
       "    <tr>\n",
       "      <th>4</th>\n",
       "      <td>ID005</td>\n",
       "      <td>CUST_005</td>\n",
       "      <td>1546709386884</td>\n",
       "      <td>17.432325</td>\n",
       "      <td>78.381966</td>\n",
       "      <td>17.401625</td>\n",
       "      <td>78.400032</td>\n",
       "      <td>6.978</td>\n",
       "      <td>16.120867</td>\n",
       "      <td>58</td>\n",
       "    </tr>\n",
       "  </tbody>\n",
       "</table>\n",
       "</div>"
      ],
      "text/plain": [
       "  trip_id customer_id      timestamp   pick_lat   pick_lng   drop_lat  \\\n",
       "0   ID001    CUST_001  1546709270211  17.442705  78.387878  17.457829   \n",
       "1   ID002    CUST_002  1546709309524  17.490189  78.415512  17.450548   \n",
       "2   ID003    CUST_003  1546709331857  17.370108  78.515045  17.377041   \n",
       "3   ID004    CUST_004  1546709358403  17.439314  78.443001  17.397131   \n",
       "4   ID005    CUST_005  1546709386884  17.432325  78.381966  17.401625   \n",
       "\n",
       "    drop_lng  travel_distance  travel_time  trip_fare  \n",
       "0  78.399056            2.806    12.609667         37  \n",
       "1  78.367294           11.991    24.075200        119  \n",
       "2  78.517921            1.322     8.708300         27  \n",
       "3  78.516586           11.822    24.037550        121  \n",
       "4  78.400032            6.978    16.120867         58  "
      ]
     },
     "execution_count": 5,
     "metadata": {},
     "output_type": "execute_result"
    }
   ],
   "source": [
    "# Reading Excel File\n",
    "rapido = pd.read_excel(\"Rapido Data Analyst Assignment DataSet (1).xlsx\") # customer_id as index\n",
    "\n",
    "# First Look at the data\n",
    "rapido.head()"
   ]
  },
  {
   "cell_type": "markdown",
   "metadata": {},
   "source": [
    "#### Dimensions Information"
   ]
  },
  {
   "cell_type": "code",
   "execution_count": 6,
   "metadata": {},
   "outputs": [
    {
     "name": "stdout",
     "output_type": "stream",
     "text": [
      "Dataframe Dimensions \n",
      " MEASURES    : 44587  \n",
      " DIMENSIONS  : 10\n"
     ]
    }
   ],
   "source": [
    "# Dimension of Data\n",
    "print('Dataframe Dimensions \\n MEASURES    :',rapido.shape[0],' \\n DIMENSIONS  :',rapido.shape[1])"
   ]
  },
  {
   "cell_type": "markdown",
   "metadata": {},
   "source": [
    "There are 44587 rows and 10 Columns "
   ]
  },
  {
   "cell_type": "code",
   "execution_count": 7,
   "metadata": {},
   "outputs": [
    {
     "name": "stdout",
     "output_type": "stream",
     "text": [
      "1. trip_id\n",
      "2. customer_id\n",
      "3. timestamp\n",
      "4. pick_lat\n",
      "5. pick_lng\n",
      "6. drop_lat\n",
      "7. drop_lng\n",
      "8. travel_distance\n",
      "9. travel_time\n",
      "10. trip_fare\n"
     ]
    }
   ],
   "source": [
    "i = 1\n",
    "col_List = rapido.columns.tolist() \n",
    "\n",
    "# print('\\nDimension :\\n',Col_list )\n",
    "for col in col_List:\n",
    "    print(str(i)+'. '+col)\n",
    "    i += 1"
   ]
  },
  {
   "cell_type": "markdown",
   "metadata": {},
   "source": [
    "Serial No.|Column names|Description\n",
    "---       |---         |---\n",
    "1 | trip_id        | Unique identifier for trips\n",
    "2 | customer_id    | Unique identifier for customers\n",
    "3 | timestamp      | Time stamp of the trip in Epoch format(**in ms**)\n",
    "4 | pick_lat       | Latitude of the pickup location\n",
    "5 | pick_lng       | Longitude of the pickup location\n",
    "6 | drop_lat       | Latitude of the drop location\n",
    "7 | drop_lng       | Longitude of the drop location\n",
    "8 | travel_distance| Distance of trip measured in KMs\n",
    "9 | travel_time    | Duration of the trip measured in Minutes\n",
    "10| trip_fare      | Trip fare calculated in Rupees"
   ]
  },
  {
   "cell_type": "markdown",
   "metadata": {},
   "source": [
    "#### Unique Values"
   ]
  },
  {
   "cell_type": "code",
   "execution_count": 8,
   "metadata": {},
   "outputs": [
    {
     "name": "stdout",
     "output_type": "stream",
     "text": [
      "\n",
      "There are no missing values:\n",
      " trip_id            0\n",
      "customer_id        0\n",
      "timestamp          0\n",
      "pick_lat           0\n",
      "pick_lng           0\n",
      "drop_lat           0\n",
      "drop_lng           0\n",
      "travel_distance    0\n",
      "travel_time        0\n",
      "trip_fare          0\n",
      "dtype: int64\n"
     ]
    }
   ],
   "source": [
    "print ('\\nThere are no missing values:\\n', rapido.isnull().sum())"
   ]
  },
  {
   "cell_type": "markdown",
   "metadata": {},
   "source": [
    "**No missing value found**\n",
    "\n",
    "---"
   ]
  },
  {
   "cell_type": "markdown",
   "metadata": {},
   "source": [
    "#### Distinct Values"
   ]
  },
  {
   "cell_type": "code",
   "execution_count": 9,
   "metadata": {},
   "outputs": [
    {
     "name": "stdout",
     "output_type": "stream",
     "text": [
      "\n",
      "Unique values :  \n",
      " trip_id            44587\n",
      "customer_id        19139\n",
      "timestamp          44586\n",
      "pick_lat           29677\n",
      "pick_lng           19902\n",
      "drop_lat           29962\n",
      "drop_lng           20530\n",
      "travel_distance    11756\n",
      "travel_time        43980\n",
      "trip_fare            284\n",
      "dtype: int64\n"
     ]
    }
   ],
   "source": [
    "print ('\\nUnique values :  \\n',rapido.nunique())"
   ]
  },
  {
   "cell_type": "code",
   "execution_count": 10,
   "metadata": {},
   "outputs": [
    {
     "name": "stdout",
     "output_type": "stream",
     "text": [
      "Variables Data Types\n",
      " trip_id             object\n",
      "customer_id         object\n",
      "timestamp            int64\n",
      "pick_lat           float64\n",
      "pick_lng           float64\n",
      "drop_lat           float64\n",
      "drop_lng           float64\n",
      "travel_distance    float64\n",
      "travel_time        float64\n",
      "trip_fare            int64\n",
      "dtype: object\n"
     ]
    }
   ],
   "source": [
    "print('Variables Data Types\\n',rapido.dtypes) "
   ]
  },
  {
   "cell_type": "code",
   "execution_count": 11,
   "metadata": {},
   "outputs": [
    {
     "data": {
      "text/html": [
       "<div>\n",
       "<style scoped>\n",
       "    .dataframe tbody tr th:only-of-type {\n",
       "        vertical-align: middle;\n",
       "    }\n",
       "\n",
       "    .dataframe tbody tr th {\n",
       "        vertical-align: top;\n",
       "    }\n",
       "\n",
       "    .dataframe thead th {\n",
       "        text-align: right;\n",
       "    }\n",
       "</style>\n",
       "<table border=\"1\" class=\"dataframe\">\n",
       "  <thead>\n",
       "    <tr style=\"text-align: right;\">\n",
       "      <th></th>\n",
       "      <th>timestamp</th>\n",
       "      <th>pick_lat</th>\n",
       "      <th>pick_lng</th>\n",
       "      <th>drop_lat</th>\n",
       "      <th>drop_lng</th>\n",
       "      <th>travel_distance</th>\n",
       "      <th>travel_time</th>\n",
       "      <th>trip_fare</th>\n",
       "    </tr>\n",
       "  </thead>\n",
       "  <tbody>\n",
       "    <tr>\n",
       "      <th>count</th>\n",
       "      <td>4.458700e+04</td>\n",
       "      <td>44587.000000</td>\n",
       "      <td>44587.000000</td>\n",
       "      <td>44587.000000</td>\n",
       "      <td>44587.000000</td>\n",
       "      <td>44587.000000</td>\n",
       "      <td>44587.000000</td>\n",
       "      <td>44587.000000</td>\n",
       "    </tr>\n",
       "    <tr>\n",
       "      <th>mean</th>\n",
       "      <td>1.546632e+12</td>\n",
       "      <td>17.427919</td>\n",
       "      <td>78.435542</td>\n",
       "      <td>17.427891</td>\n",
       "      <td>78.434897</td>\n",
       "      <td>5.094359</td>\n",
       "      <td>15.819835</td>\n",
       "      <td>53.872833</td>\n",
       "    </tr>\n",
       "    <tr>\n",
       "      <th>std</th>\n",
       "      <td>1.518684e+08</td>\n",
       "      <td>0.030049</td>\n",
       "      <td>0.053333</td>\n",
       "      <td>0.037722</td>\n",
       "      <td>0.054965</td>\n",
       "      <td>3.365008</td>\n",
       "      <td>23.462865</td>\n",
       "      <td>33.430462</td>\n",
       "    </tr>\n",
       "    <tr>\n",
       "      <th>min</th>\n",
       "      <td>1.546368e+12</td>\n",
       "      <td>17.330339</td>\n",
       "      <td>78.308258</td>\n",
       "      <td>12.921696</td>\n",
       "      <td>77.548103</td>\n",
       "      <td>-1.000000</td>\n",
       "      <td>0.022750</td>\n",
       "      <td>20.000000</td>\n",
       "    </tr>\n",
       "    <tr>\n",
       "      <th>25%</th>\n",
       "      <td>1.546503e+12</td>\n",
       "      <td>17.405327</td>\n",
       "      <td>78.386562</td>\n",
       "      <td>17.405660</td>\n",
       "      <td>78.385010</td>\n",
       "      <td>2.744500</td>\n",
       "      <td>8.428525</td>\n",
       "      <td>36.000000</td>\n",
       "    </tr>\n",
       "    <tr>\n",
       "      <th>50%</th>\n",
       "      <td>1.546611e+12</td>\n",
       "      <td>17.432136</td>\n",
       "      <td>78.438866</td>\n",
       "      <td>17.431213</td>\n",
       "      <td>78.438164</td>\n",
       "      <td>4.299000</td>\n",
       "      <td>13.126250</td>\n",
       "      <td>46.000000</td>\n",
       "    </tr>\n",
       "    <tr>\n",
       "      <th>75%</th>\n",
       "      <td>1.546772e+12</td>\n",
       "      <td>17.446777</td>\n",
       "      <td>78.480839</td>\n",
       "      <td>17.446907</td>\n",
       "      <td>78.480255</td>\n",
       "      <td>6.679500</td>\n",
       "      <td>20.111167</td>\n",
       "      <td>60.000000</td>\n",
       "    </tr>\n",
       "    <tr>\n",
       "      <th>max</th>\n",
       "      <td>1.546886e+12</td>\n",
       "      <td>17.529791</td>\n",
       "      <td>78.600647</td>\n",
       "      <td>17.736155</td>\n",
       "      <td>78.634804</td>\n",
       "      <td>52.801000</td>\n",
       "      <td>4134.388700</td>\n",
       "      <td>1670.000000</td>\n",
       "    </tr>\n",
       "  </tbody>\n",
       "</table>\n",
       "</div>"
      ],
      "text/plain": [
       "          timestamp      pick_lat      pick_lng      drop_lat      drop_lng  \\\n",
       "count  4.458700e+04  44587.000000  44587.000000  44587.000000  44587.000000   \n",
       "mean   1.546632e+12     17.427919     78.435542     17.427891     78.434897   \n",
       "std    1.518684e+08      0.030049      0.053333      0.037722      0.054965   \n",
       "min    1.546368e+12     17.330339     78.308258     12.921696     77.548103   \n",
       "25%    1.546503e+12     17.405327     78.386562     17.405660     78.385010   \n",
       "50%    1.546611e+12     17.432136     78.438866     17.431213     78.438164   \n",
       "75%    1.546772e+12     17.446777     78.480839     17.446907     78.480255   \n",
       "max    1.546886e+12     17.529791     78.600647     17.736155     78.634804   \n",
       "\n",
       "       travel_distance   travel_time     trip_fare  \n",
       "count     44587.000000  44587.000000  44587.000000  \n",
       "mean          5.094359     15.819835     53.872833  \n",
       "std           3.365008     23.462865     33.430462  \n",
       "min          -1.000000      0.022750     20.000000  \n",
       "25%           2.744500      8.428525     36.000000  \n",
       "50%           4.299000     13.126250     46.000000  \n",
       "75%           6.679500     20.111167     60.000000  \n",
       "max          52.801000   4134.388700   1670.000000  "
      ]
     },
     "execution_count": 11,
     "metadata": {},
     "output_type": "execute_result"
    }
   ],
   "source": [
    "rapido.describe()"
   ]
  },
  {
   "cell_type": "code",
   "execution_count": 63,
   "metadata": {},
   "outputs": [
    {
     "name": "stdout",
     "output_type": "stream",
     "text": [
      "Skewness of(POSITIVE TAIL)\n",
      " timestamp            0.135380\n",
      "pick_lat             0.003127\n",
      "pick_lng             0.165726\n",
      "drop_lat           -38.196997\n",
      "drop_lng             0.081117\n",
      "travel_distance      1.706639\n",
      "travel_time        124.499745\n",
      "trip_fare            7.562344\n",
      "dtype: float64  \n",
      "Kurtoise of(VERY POINTY) : \n",
      " timestamp             -1.238809\n",
      "pick_lat               0.056599\n",
      "pick_lng              -0.925868\n",
      "drop_lat            4566.694986\n",
      "drop_lng               0.730129\n",
      "travel_distance        5.785540\n",
      "travel_time        21389.875659\n",
      "trip_fare            205.242224\n",
      "dtype: float64\n"
     ]
    }
   ],
   "source": [
    "print('Skewness of(POSITIVE TAIL)\\n' , rapido.skew(), ' \\nKurtoise of(VERY POINTY) : \\n',rapido.kurt())"
   ]
  },
  {
   "cell_type": "markdown",
   "metadata": {},
   "source": [
    "For above description , kutoise and skewness, we can clearly avoide timespamp, pick and drop longitude and latitude respectively, they do not signify measure but time and geographical data."
   ]
  },
  {
   "cell_type": "markdown",
   "metadata": {},
   "source": [
    "##### OBSERVATIONS\n",
    "\n",
    "1. There are no missing values\n",
    "2. Travel Distance(in KM) - Needs more observation and error handling\n",
    "    - Column looks funny. \n",
    "    - Minimum Travel Distance of -1. Clear Anomaly\n",
    "    \n",
    "3. Travel Times(in minutes)  - Needs more observation and error handling\n",
    "    - Maximum time travel on bike is 4134 : 68.9 Hours or 2 Days, 20 Hours, 53 Minutes and 59 Seconds. \n",
    "    - Minimum time traveled on bike is  0.02275 or 1.365 seconds\n",
    "4. `timestamp` is in epoch millisecond counts i.e. 13 digits\n",
    "5. A customer can have more than one ride.\n",
    "\n",
    "> There are clear errors in data which need to be rectified\n",
    "\n",
    "---"
   ]
  },
  {
   "cell_type": "markdown",
   "metadata": {},
   "source": [
    "# Problem Statements\n",
    "### Part 1. Exploratory data analysis\n",
    "Perform an exploratory data analysis on the given dataset and share your findings.\n",
    "\n",
    "### Part 2. Metric calculation\n",
    "What is the average duration between the 1st trip and the 2nd trip of customers? Note: Consider only\n",
    "the customers who have done 2 or more trips.\n",
    "\n",
    "### Part 3. Model building\n",
    "Build a model to predict trip_fare using travel_distance and travel_time. Measure the accuracy of the\n",
    "model and use the model to predict trip_fare for a trip with travel_distance of 3.5 kms and travel_time\n",
    "\n",
    "### Part 4. Top Hex clusters\n",
    "Top 5 pairs of hex (resolution=8) clusters where most of the trips happened? You can refer to the\n",
    "library listed below to get hexid for a given latitude and longitude.\n",
    "-  https://github.com/uber/h3-py\n",
    "\n",
    "Expected output\n",
    "\n",
    "Rank Hex | pair (source_hexid, destination_hexid) |  Total trips\n",
    "---|---|---\n",
    "1 | 883c8e4159fffff to 88754e6499fffff |34\n",
    "2 | 883db66b55fffff to 883c8e4159fffff | 28"
   ]
  },
  {
   "cell_type": "markdown",
   "metadata": {},
   "source": [
    "## EDA - Exploratory Data Analysis\n",
    "\n",
    "- `Part 1` of problem statement deals with entrire data. \n",
    "- Each problem statement deals with different slices of dataset.\n",
    "- So to keep it simple each part of problem statement has its own EDA."
   ]
  },
  {
   "cell_type": "code",
   "execution_count": 13,
   "metadata": {},
   "outputs": [
    {
     "data": {
      "image/png": "[encoded data removed]",
      "text/plain": [
       "<Figure size 720x576 with 2 Axes>"
      ]
     },
     "metadata": {
      "needs_background": "light"
     },
     "output_type": "display_data"
    }
   ],
   "source": [
    "##  correlation between variables indicates that as one variable changes in value,\n",
    "##  the other variable tends to change in a specific direction.\n",
    "\n",
    "rapido_corr = rapido\n",
    "# rapido_corr = rapido[['travel_distance', 'travel_time', 'trip_fare']]\n",
    "corr = rapido_corr.corr()\n",
    "\n",
    "def hmap(corr,strr='HeatMap'):\n",
    "    ax = sb.heatmap(\n",
    "        corr,\n",
    "        annot=True,\n",
    "        cmap='RdYlGn',\n",
    "        linewidths=0.2,\n",
    "        vmin=-1, \n",
    "        vmax=1, \n",
    "        center=0,\n",
    "        square=True\n",
    "        )\n",
    "    fig = plt.gcf()\n",
    "    fig.set_size_inches(10,8)\n",
    "    ax.set_xticklabels(\n",
    "        ax.get_xticklabels(),\n",
    "        rotation=45,\n",
    "        horizontalalignment='right'\n",
    "    );\n",
    "    plt.title(strr)\n",
    "    plt.show()\n",
    "hmap(corr,'Correlation between all columns of Data,(WITHERRORS)')"
   ]
  },
  {
   "cell_type": "markdown",
   "metadata": {},
   "source": [
    "#### Observation\n",
    "Based on correlation matrix above\n",
    "There is positive correlation between \n",
    "    - Distance travelled and trip's fare\n",
    "    - Time travelled and trip's fare\n",
    "    \n"
   ]
  },
  {
   "cell_type": "code",
   "execution_count": 14,
   "metadata": {},
   "outputs": [
    {
     "data": {
      "image/png": "[encoded data removed]",
      "text/plain": [
       "<Figure size 720x576 with 2 Axes>"
      ]
     },
     "metadata": {
      "needs_background": "light"
     },
     "output_type": "display_data"
    }
   ],
   "source": [
    "corr = rapido[['travel_distance','travel_time','trip_fare']].corr()\n",
    "hmap(corr,'Correlation between Travel Time, Travel Distance and Trip Fair')\n",
    "\n"
   ]
  },
  {
   "cell_type": "code",
   "execution_count": 15,
   "metadata": {},
   "outputs": [
    {
     "data": {
      "image/png": "[encoded data removed]",
      "text/plain": [
       "<Figure size 540x540 with 12 Axes>"
      ]
     },
     "metadata": {
      "needs_background": "light"
     },
     "output_type": "display_data"
    }
   ],
   "source": [
    "ax = sb.pairplot(rapido[\n",
    "    ['travel_distance','travel_time','trip_fare']\n",
    "])\n",
    "plt.title('Pair Plot - Travel Time, Travel Distance and Trip Fair')\n",
    "plt.show()"
   ]
  },
  {
   "cell_type": "markdown",
   "metadata": {},
   "source": [
    "\n",
    "### NOTE: THESE ARE OBSERVATIONS WITHOUT ERROR HANDLING\n",
    "For example, we have a `travel_time` greater than `4000`\n",
    "\n",
    "I have handled the error in each part of problem statement and their descriptions\n"
   ]
  },
  {
   "cell_type": "markdown",
   "metadata": {},
   "source": [
    "# What is the average duration between the 1st trip and the 2nd trip of customers? Note: Consider only the customers who have done 2 or more trips."
   ]
  },
  {
   "cell_type": "markdown",
   "metadata": {},
   "source": [
    "For this problem the only needed columns are `trip_id`, `customer_id` and `timestamp`.\n",
    "Since other measure are irrelavent and have no correlations, as can be seen in corelation matrix above."
   ]
  },
  {
   "cell_type": "code",
   "execution_count": 16,
   "metadata": {},
   "outputs": [
    {
     "data": {
      "text/html": [
       "<div>\n",
       "<style scoped>\n",
       "    .dataframe tbody tr th:only-of-type {\n",
       "        vertical-align: middle;\n",
       "    }\n",
       "\n",
       "    .dataframe tbody tr th {\n",
       "        vertical-align: top;\n",
       "    }\n",
       "\n",
       "    .dataframe thead th {\n",
       "        text-align: right;\n",
       "    }\n",
       "</style>\n",
       "<table border=\"1\" class=\"dataframe\">\n",
       "  <thead>\n",
       "    <tr style=\"text-align: right;\">\n",
       "      <th></th>\n",
       "      <th>trip_id</th>\n",
       "      <th>customer_id</th>\n",
       "      <th>timestamp</th>\n",
       "    </tr>\n",
       "  </thead>\n",
       "  <tbody>\n",
       "    <tr>\n",
       "      <th>0</th>\n",
       "      <td>ID001</td>\n",
       "      <td>CUST_001</td>\n",
       "      <td>1546709270211</td>\n",
       "    </tr>\n",
       "    <tr>\n",
       "      <th>1</th>\n",
       "      <td>ID002</td>\n",
       "      <td>CUST_002</td>\n",
       "      <td>1546709309524</td>\n",
       "    </tr>\n",
       "    <tr>\n",
       "      <th>2</th>\n",
       "      <td>ID003</td>\n",
       "      <td>CUST_003</td>\n",
       "      <td>1546709331857</td>\n",
       "    </tr>\n",
       "    <tr>\n",
       "      <th>3</th>\n",
       "      <td>ID004</td>\n",
       "      <td>CUST_004</td>\n",
       "      <td>1546709358403</td>\n",
       "    </tr>\n",
       "    <tr>\n",
       "      <th>4</th>\n",
       "      <td>ID005</td>\n",
       "      <td>CUST_005</td>\n",
       "      <td>1546709386884</td>\n",
       "    </tr>\n",
       "  </tbody>\n",
       "</table>\n",
       "</div>"
      ],
      "text/plain": [
       "  trip_id customer_id      timestamp\n",
       "0   ID001    CUST_001  1546709270211\n",
       "1   ID002    CUST_002  1546709309524\n",
       "2   ID003    CUST_003  1546709331857\n",
       "3   ID004    CUST_004  1546709358403\n",
       "4   ID005    CUST_005  1546709386884"
      ]
     },
     "execution_count": 16,
     "metadata": {},
     "output_type": "execute_result"
    }
   ],
   "source": [
    "#Not altering the orginial dataset.\n",
    "rapidodt = rapido.copy()\n",
    "rapidodt = rapidodt[['trip_id','customer_id','timestamp']]\n",
    "rapidodt.head()"
   ]
  },
  {
   "cell_type": "code",
   "execution_count": 17,
   "metadata": {},
   "outputs": [
    {
     "data": {
      "text/html": [
       "<div>\n",
       "<style scoped>\n",
       "    .dataframe tbody tr th:only-of-type {\n",
       "        vertical-align: middle;\n",
       "    }\n",
       "\n",
       "    .dataframe tbody tr th {\n",
       "        vertical-align: top;\n",
       "    }\n",
       "\n",
       "    .dataframe thead th {\n",
       "        text-align: right;\n",
       "    }\n",
       "</style>\n",
       "<table border=\"1\" class=\"dataframe\">\n",
       "  <thead>\n",
       "    <tr style=\"text-align: right;\">\n",
       "      <th></th>\n",
       "      <th>trip_id</th>\n",
       "      <th>customer_id</th>\n",
       "      <th>timestamp</th>\n",
       "    </tr>\n",
       "  </thead>\n",
       "  <tbody>\n",
       "    <tr>\n",
       "      <th>0</th>\n",
       "      <td>ID001</td>\n",
       "      <td>CUST_001</td>\n",
       "      <td>1546709270211</td>\n",
       "    </tr>\n",
       "    <tr>\n",
       "      <th>1389</th>\n",
       "      <td>ID1390</td>\n",
       "      <td>CUST_001</td>\n",
       "      <td>1546871083066</td>\n",
       "    </tr>\n",
       "    <tr>\n",
       "      <th>1866</th>\n",
       "      <td>ID1867</td>\n",
       "      <td>CUST_001</td>\n",
       "      <td>1546873649099</td>\n",
       "    </tr>\n",
       "    <tr>\n",
       "      <th>4983</th>\n",
       "      <td>ID4984</td>\n",
       "      <td>CUST_001</td>\n",
       "      <td>1546765642873</td>\n",
       "    </tr>\n",
       "    <tr>\n",
       "      <th>5269</th>\n",
       "      <td>ID5270</td>\n",
       "      <td>CUST_001</td>\n",
       "      <td>1546769557670</td>\n",
       "    </tr>\n",
       "    <tr>\n",
       "      <th>5528</th>\n",
       "      <td>ID5529</td>\n",
       "      <td>CUST_001</td>\n",
       "      <td>1546773038937</td>\n",
       "    </tr>\n",
       "    <tr>\n",
       "      <th>33261</th>\n",
       "      <td>ID33262</td>\n",
       "      <td>CUST_001</td>\n",
       "      <td>1546676690138</td>\n",
       "    </tr>\n",
       "    <tr>\n",
       "      <th>36625</th>\n",
       "      <td>ID36626</td>\n",
       "      <td>CUST_001</td>\n",
       "      <td>1546702978281</td>\n",
       "    </tr>\n",
       "  </tbody>\n",
       "</table>\n",
       "</div>"
      ],
      "text/plain": [
       "       trip_id customer_id      timestamp\n",
       "0        ID001    CUST_001  1546709270211\n",
       "1389    ID1390    CUST_001  1546871083066\n",
       "1866    ID1867    CUST_001  1546873649099\n",
       "4983    ID4984    CUST_001  1546765642873\n",
       "5269    ID5270    CUST_001  1546769557670\n",
       "5528    ID5529    CUST_001  1546773038937\n",
       "33261  ID33262    CUST_001  1546676690138\n",
       "36625  ID36626    CUST_001  1546702978281"
      ]
     },
     "execution_count": 17,
     "metadata": {},
     "output_type": "execute_result"
    }
   ],
   "source": [
    "# One Customer can have more than one trip, all trips have unique ID.\n",
    "rapidodt.loc[rapidodt['customer_id']== 'CUST_001']"
   ]
  },
  {
   "cell_type": "markdown",
   "metadata": {},
   "source": [
    "## Data Manipulation\n"
   ]
  },
  {
   "cell_type": "code",
   "execution_count": 18,
   "metadata": {
    "scrolled": true
   },
   "outputs": [
    {
     "name": "stdout",
     "output_type": "stream",
     "text": [
      "True\n"
     ]
    }
   ],
   "source": [
    "# Calculating number of trips per customer\n",
    "rapido_series = rapidodt['customer_id'].value_counts()\n",
    "\n",
    "# Which is same as number of unique cutomers\n",
    "print(rapido_series.shape[0] == rapido['customer_id'].nunique()) "
   ]
  },
  {
   "cell_type": "code",
   "execution_count": 19,
   "metadata": {},
   "outputs": [
    {
     "name": "stdout",
     "output_type": "stream",
     "text": [
      "No of unique customer :  19139\n"
     ]
    },
    {
     "data": {
      "text/html": [
       "<div>\n",
       "<style scoped>\n",
       "    .dataframe tbody tr th:only-of-type {\n",
       "        vertical-align: middle;\n",
       "    }\n",
       "\n",
       "    .dataframe tbody tr th {\n",
       "        vertical-align: top;\n",
       "    }\n",
       "\n",
       "    .dataframe thead th {\n",
       "        text-align: right;\n",
       "    }\n",
       "</style>\n",
       "<table border=\"1\" class=\"dataframe\">\n",
       "  <thead>\n",
       "    <tr style=\"text-align: right;\">\n",
       "      <th></th>\n",
       "      <th>Customer_ID</th>\n",
       "      <th>trip_count</th>\n",
       "    </tr>\n",
       "  </thead>\n",
       "  <tbody>\n",
       "    <tr>\n",
       "      <th>0</th>\n",
       "      <td>CUST_279</td>\n",
       "      <td>53</td>\n",
       "    </tr>\n",
       "    <tr>\n",
       "      <th>1</th>\n",
       "      <td>CUST_3100</td>\n",
       "      <td>25</td>\n",
       "    </tr>\n",
       "    <tr>\n",
       "      <th>2</th>\n",
       "      <td>CUST_4119</td>\n",
       "      <td>25</td>\n",
       "    </tr>\n",
       "    <tr>\n",
       "      <th>3</th>\n",
       "      <td>CUST_1237</td>\n",
       "      <td>21</td>\n",
       "    </tr>\n",
       "    <tr>\n",
       "      <th>4</th>\n",
       "      <td>CUST_1120</td>\n",
       "      <td>21</td>\n",
       "    </tr>\n",
       "  </tbody>\n",
       "</table>\n",
       "</div>"
      ],
      "text/plain": [
       "  Customer_ID  trip_count\n",
       "0    CUST_279          53\n",
       "1   CUST_3100          25\n",
       "2   CUST_4119          25\n",
       "3   CUST_1237          21\n",
       "4   CUST_1120          21"
      ]
     },
     "execution_count": 19,
     "metadata": {},
     "output_type": "execute_result"
    }
   ],
   "source": [
    "# Trips/Customer Calculation\n",
    "\n",
    "rapido_series_index = rapido_series.index\n",
    "rapido_series = rapido_series.tolist()\n",
    "rapido2 = pd.DataFrame(data = rapido_series_index,columns=['Customer_ID'])\n",
    "rapido2['trip_count'] = rapido_series\n",
    "print('No of unique customer : ',len(rapido2))\n",
    "rapido2.head()"
   ]
  },
  {
   "cell_type": "markdown",
   "metadata": {},
   "source": [
    "Trips Per Customer Tableau visualization. \n",
    "Total Customer : 44587\n",
    "\n",
    "![Trips per Customer](images/tripcount.PNG)\n",
    "\n",
    "**Customer 279 has most number of ride. A valued customer.**"
   ]
  },
  {
   "cell_type": "code",
   "execution_count": 20,
   "metadata": {},
   "outputs": [
    {
     "data": {
      "image/png": "[encoded data removed]",
      "text/plain": [
       "<Figure size 720x576 with 1 Axes>"
      ]
     },
     "metadata": {
      "needs_background": "light"
     },
     "output_type": "display_data"
    },
    {
     "data": {
      "image/png": "[encoded data removed]",
      "text/plain": [
       "<Figure size 432x288 with 1 Axes>"
      ]
     },
     "metadata": {},
     "output_type": "display_data"
    },
    {
     "name": "stdout",
     "output_type": "stream",
     "text": [
      "Skewness of(POSITIVE TAIL) 3.159787080150149  Kurtoise of(VERY POINTY) :  22.815107790445268\n"
     ]
    }
   ],
   "source": [
    "# Scatter plot for top 20 TRIPS/CUSTOMERS\n",
    "ax = sb.relplot(y=\"trip_count\", x=\"Customer_ID\", data=rapido2.head(20));\n",
    "sb.set(style=\"whitegrid\")\n",
    "fig = plt.gcf()\n",
    "fig.set_size_inches(10,8)\n",
    "ax.set_xticklabels(\n",
    "        rotation=45,\n",
    "        horizontalalignment='right'\n",
    "    );\n",
    "plt.title('SCATTER PLOT: TRIPS/CUSTOMERS')\n",
    "plt.show()\n",
    "\n",
    "\n",
    "tc  = (rapido2['trip_count'])\n",
    "ax = sb.distplot(tc,hist=False);\n",
    "fig.set_size_inches(10,8)\n",
    "plt.title('Spread: TRIPS/CUSTOMERS')\n",
    "plt.show()\n",
    "\n",
    "\n",
    "print('Skewness of(POSITIVE TAIL)' , tc.skew(), ' Kurtoise of(VERY POINTY) : ',tc.kurt())\n",
    "\n"
   ]
  },
  {
   "cell_type": "code",
   "execution_count": 21,
   "metadata": {},
   "outputs": [
    {
     "name": "stdout",
     "output_type": "stream",
     "text": [
      "There are  9130  customer with more then one trip\n"
     ]
    }
   ],
   "source": [
    "# Customers with more then 1 trip.\n",
    "\n",
    "rapido2_filtered = rapido2[rapido2['trip_count']>=2]\n",
    "rapido_filtered_customer_list = rapido2_filtered['Customer_ID'].tolist()\n",
    "print('There are ',len(rapido_filtered_customer_list),' customer with more then one trip')\n",
    "\n",
    "rapidodt['customer_id'].astype(str)\n",
    "\n",
    "# Filtering DataSet : Only have values of customer with more than one trip.\n",
    "rapidodt = rapidodt[rapidodt.customer_id.isin(rapido_filtered_customer_list)] \n",
    "\n"
   ]
  },
  {
   "cell_type": "code",
   "execution_count": 22,
   "metadata": {},
   "outputs": [
    {
     "name": "stdout",
     "output_type": "stream",
     "text": [
      "(44587, 10)\n"
     ]
    },
    {
     "data": {
      "text/html": [
       "<div>\n",
       "<style scoped>\n",
       "    .dataframe tbody tr th:only-of-type {\n",
       "        vertical-align: middle;\n",
       "    }\n",
       "\n",
       "    .dataframe tbody tr th {\n",
       "        vertical-align: top;\n",
       "    }\n",
       "\n",
       "    .dataframe thead th {\n",
       "        text-align: right;\n",
       "    }\n",
       "</style>\n",
       "<table border=\"1\" class=\"dataframe\">\n",
       "  <thead>\n",
       "    <tr style=\"text-align: right;\">\n",
       "      <th></th>\n",
       "      <th>trip_id</th>\n",
       "      <th>customer_id</th>\n",
       "      <th>timestamp</th>\n",
       "      <th>pick_lat</th>\n",
       "      <th>pick_lng</th>\n",
       "      <th>drop_lat</th>\n",
       "      <th>drop_lng</th>\n",
       "      <th>travel_distance</th>\n",
       "      <th>travel_time</th>\n",
       "      <th>trip_fare</th>\n",
       "    </tr>\n",
       "  </thead>\n",
       "  <tbody>\n",
       "    <tr>\n",
       "      <th>0</th>\n",
       "      <td>ID001</td>\n",
       "      <td>CUST_001</td>\n",
       "      <td>1546709270211</td>\n",
       "      <td>17.442705</td>\n",
       "      <td>78.387878</td>\n",
       "      <td>17.457829</td>\n",
       "      <td>78.399056</td>\n",
       "      <td>2.806</td>\n",
       "      <td>12.609667</td>\n",
       "      <td>37</td>\n",
       "    </tr>\n",
       "    <tr>\n",
       "      <th>1</th>\n",
       "      <td>ID002</td>\n",
       "      <td>CUST_002</td>\n",
       "      <td>1546709309524</td>\n",
       "      <td>17.490189</td>\n",
       "      <td>78.415512</td>\n",
       "      <td>17.450548</td>\n",
       "      <td>78.367294</td>\n",
       "      <td>11.991</td>\n",
       "      <td>24.075200</td>\n",
       "      <td>119</td>\n",
       "    </tr>\n",
       "    <tr>\n",
       "      <th>2</th>\n",
       "      <td>ID003</td>\n",
       "      <td>CUST_003</td>\n",
       "      <td>1546709331857</td>\n",
       "      <td>17.370108</td>\n",
       "      <td>78.515045</td>\n",
       "      <td>17.377041</td>\n",
       "      <td>78.517921</td>\n",
       "      <td>1.322</td>\n",
       "      <td>8.708300</td>\n",
       "      <td>27</td>\n",
       "    </tr>\n",
       "    <tr>\n",
       "      <th>3</th>\n",
       "      <td>ID004</td>\n",
       "      <td>CUST_004</td>\n",
       "      <td>1546709358403</td>\n",
       "      <td>17.439314</td>\n",
       "      <td>78.443001</td>\n",
       "      <td>17.397131</td>\n",
       "      <td>78.516586</td>\n",
       "      <td>11.822</td>\n",
       "      <td>24.037550</td>\n",
       "      <td>121</td>\n",
       "    </tr>\n",
       "    <tr>\n",
       "      <th>4</th>\n",
       "      <td>ID005</td>\n",
       "      <td>CUST_005</td>\n",
       "      <td>1546709386884</td>\n",
       "      <td>17.432325</td>\n",
       "      <td>78.381966</td>\n",
       "      <td>17.401625</td>\n",
       "      <td>78.400032</td>\n",
       "      <td>6.978</td>\n",
       "      <td>16.120867</td>\n",
       "      <td>58</td>\n",
       "    </tr>\n",
       "  </tbody>\n",
       "</table>\n",
       "</div>"
      ],
      "text/plain": [
       "  trip_id customer_id      timestamp   pick_lat   pick_lng   drop_lat  \\\n",
       "0   ID001    CUST_001  1546709270211  17.442705  78.387878  17.457829   \n",
       "1   ID002    CUST_002  1546709309524  17.490189  78.415512  17.450548   \n",
       "2   ID003    CUST_003  1546709331857  17.370108  78.515045  17.377041   \n",
       "3   ID004    CUST_004  1546709358403  17.439314  78.443001  17.397131   \n",
       "4   ID005    CUST_005  1546709386884  17.432325  78.381966  17.401625   \n",
       "\n",
       "    drop_lng  travel_distance  travel_time  trip_fare  \n",
       "0  78.399056            2.806    12.609667         37  \n",
       "1  78.367294           11.991    24.075200        119  \n",
       "2  78.517921            1.322     8.708300         27  \n",
       "3  78.516586           11.822    24.037550        121  \n",
       "4  78.400032            6.978    16.120867         58  "
      ]
     },
     "execution_count": 22,
     "metadata": {},
     "output_type": "execute_result"
    }
   ],
   "source": [
    "#ORIGINAL DATASET\n",
    "print(rapido.shape)\n",
    "rapido.head() "
   ]
  },
  {
   "cell_type": "code",
   "execution_count": 23,
   "metadata": {},
   "outputs": [
    {
     "name": "stdout",
     "output_type": "stream",
     "text": [
      "(34578, 3)\n"
     ]
    },
    {
     "data": {
      "text/html": [
       "<div>\n",
       "<style scoped>\n",
       "    .dataframe tbody tr th:only-of-type {\n",
       "        vertical-align: middle;\n",
       "    }\n",
       "\n",
       "    .dataframe tbody tr th {\n",
       "        vertical-align: top;\n",
       "    }\n",
       "\n",
       "    .dataframe thead th {\n",
       "        text-align: right;\n",
       "    }\n",
       "</style>\n",
       "<table border=\"1\" class=\"dataframe\">\n",
       "  <thead>\n",
       "    <tr style=\"text-align: right;\">\n",
       "      <th></th>\n",
       "      <th>trip_id</th>\n",
       "      <th>customer_id</th>\n",
       "      <th>timestamp</th>\n",
       "    </tr>\n",
       "  </thead>\n",
       "  <tbody>\n",
       "    <tr>\n",
       "      <th>0</th>\n",
       "      <td>ID001</td>\n",
       "      <td>CUST_001</td>\n",
       "      <td>1546709270211</td>\n",
       "    </tr>\n",
       "    <tr>\n",
       "      <th>2</th>\n",
       "      <td>ID003</td>\n",
       "      <td>CUST_003</td>\n",
       "      <td>1546709331857</td>\n",
       "    </tr>\n",
       "    <tr>\n",
       "      <th>3</th>\n",
       "      <td>ID004</td>\n",
       "      <td>CUST_004</td>\n",
       "      <td>1546709358403</td>\n",
       "    </tr>\n",
       "    <tr>\n",
       "      <th>4</th>\n",
       "      <td>ID005</td>\n",
       "      <td>CUST_005</td>\n",
       "      <td>1546709386884</td>\n",
       "    </tr>\n",
       "    <tr>\n",
       "      <th>5</th>\n",
       "      <td>ID006</td>\n",
       "      <td>CUST_006</td>\n",
       "      <td>1546709396752</td>\n",
       "    </tr>\n",
       "  </tbody>\n",
       "</table>\n",
       "</div>"
      ],
      "text/plain": [
       "  trip_id customer_id      timestamp\n",
       "0   ID001    CUST_001  1546709270211\n",
       "2   ID003    CUST_003  1546709331857\n",
       "3   ID004    CUST_004  1546709358403\n",
       "4   ID005    CUST_005  1546709386884\n",
       "5   ID006    CUST_006  1546709396752"
      ]
     },
     "execution_count": 23,
     "metadata": {},
     "output_type": "execute_result"
    }
   ],
   "source": [
    "# Filtered Dataset of Customer with more then 1 trip.\n",
    "\n",
    "print(rapidodt.shape)\n",
    "rapidodt.head()"
   ]
  },
  {
   "cell_type": "code",
   "execution_count": 24,
   "metadata": {},
   "outputs": [],
   "source": [
    "# Initial a new dataframe which will store value of first two trips of customer \n",
    "rapidodt_top2 = pd.DataFrame()\n",
    "\n",
    "# Of all the customer with trips more than one, filter the top 2 and save in the new dataframe\n",
    "for customer_id in rapido_filtered_customer_list:\n",
    "    df_temp = rapidodt.loc[rapidodt['customer_id']== customer_id].sort_values('timestamp').head(2)\n",
    "    rapidodt_top2 = rapidodt_top2.append(df_temp)"
   ]
  },
  {
   "cell_type": "code",
   "execution_count": 25,
   "metadata": {},
   "outputs": [
    {
     "data": {
      "text/html": [
       "<div>\n",
       "<style scoped>\n",
       "    .dataframe tbody tr th:only-of-type {\n",
       "        vertical-align: middle;\n",
       "    }\n",
       "\n",
       "    .dataframe tbody tr th {\n",
       "        vertical-align: top;\n",
       "    }\n",
       "\n",
       "    .dataframe thead th {\n",
       "        text-align: right;\n",
       "    }\n",
       "</style>\n",
       "<table border=\"1\" class=\"dataframe\">\n",
       "  <thead>\n",
       "    <tr style=\"text-align: right;\">\n",
       "      <th></th>\n",
       "      <th>trip_id</th>\n",
       "      <th>customer_id</th>\n",
       "      <th>timestamp</th>\n",
       "    </tr>\n",
       "  </thead>\n",
       "  <tbody>\n",
       "    <tr>\n",
       "      <th>17350</th>\n",
       "      <td>ID17351</td>\n",
       "      <td>CUST_279</td>\n",
       "      <td>2019-01-02 05:59:14.312</td>\n",
       "    </tr>\n",
       "    <tr>\n",
       "      <th>17583</th>\n",
       "      <td>ID17584</td>\n",
       "      <td>CUST_279</td>\n",
       "      <td>2019-01-02 06:33:58.294</td>\n",
       "    </tr>\n",
       "    <tr>\n",
       "      <th>15398</th>\n",
       "      <td>ID15399</td>\n",
       "      <td>CUST_3100</td>\n",
       "      <td>2019-01-02 02:48:03.038</td>\n",
       "    </tr>\n",
       "    <tr>\n",
       "      <th>16248</th>\n",
       "      <td>ID16249</td>\n",
       "      <td>CUST_3100</td>\n",
       "      <td>2019-01-02 04:13:05.060</td>\n",
       "    </tr>\n",
       "    <tr>\n",
       "      <th>19645</th>\n",
       "      <td>ID19646</td>\n",
       "      <td>CUST_4119</td>\n",
       "      <td>2019-01-02 11:47:13.914</td>\n",
       "    </tr>\n",
       "  </tbody>\n",
       "</table>\n",
       "</div>"
      ],
      "text/plain": [
       "       trip_id customer_id               timestamp\n",
       "17350  ID17351    CUST_279 2019-01-02 05:59:14.312\n",
       "17583  ID17584    CUST_279 2019-01-02 06:33:58.294\n",
       "15398  ID15399   CUST_3100 2019-01-02 02:48:03.038\n",
       "16248  ID16249   CUST_3100 2019-01-02 04:13:05.060\n",
       "19645  ID19646   CUST_4119 2019-01-02 11:47:13.914"
      ]
     },
     "execution_count": 25,
     "metadata": {},
     "output_type": "execute_result"
    }
   ],
   "source": [
    "#Data Time Conversion\n",
    "\n",
    "rapido_customer_avg = pd.DataFrame(data=rapido_filtered_customer_list,columns=['customer_id'])\n",
    "rapidodt_top2['timestamp'] = pd.to_datetime(rapidodt_top2['timestamp'],unit='ms')\n",
    "rapidodt_top2.head()"
   ]
  },
  {
   "cell_type": "code",
   "execution_count": 26,
   "metadata": {},
   "outputs": [],
   "source": [
    "#Time Difference between first two trip of all customer with trip count more than 1\n",
    "\n",
    "l = []\n",
    "for customer_id in rapido_filtered_customer_list:\n",
    "    temp = rapidodt_top2.loc[rapidodt['customer_id']== customer_id] \n",
    "    var = temp.iloc[1]['timestamp'] - temp.iloc[0]['timestamp']\n",
    "    l.append(var)"
   ]
  },
  {
   "cell_type": "code",
   "execution_count": 27,
   "metadata": {},
   "outputs": [
    {
     "name": "stdout",
     "output_type": "stream",
     "text": [
      "Minimum time between trip by a customer :  0 days 00:01:41.770000 and max difference is :  5 days 14:43:14.647000\n",
      "\n",
      "Average duration between the 1st trip and the 2nd trip of customers :  1 days 00:47:09.691580\n"
     ]
    }
   ],
   "source": [
    "print('Minimum time between trip by a customer : ',np.min(l),'and max difference is : ' ,np.max(l))\n",
    "print('\\nAverage duration between the 1st trip and the 2nd trip of customers : ',np.mean(l))"
   ]
  },
  {
   "cell_type": "markdown",
   "metadata": {},
   "source": [
    "### Average duration between the 1st trip and the 2nd trip of customers :  **1 days 47 minutes**\n",
    "\n",
    "\n",
    "---"
   ]
  },
  {
   "cell_type": "markdown",
   "metadata": {},
   "source": [
    "# Part 3. Model building\n",
    "Build a model to predict trip_fare using travel_distance and travel_time. Measure the accuracy of the\n",
    "model and use the model to predict trip_fare for a trip with travel_distance of 3.5 kms and travel_time\n",
    "of 15 minutes.\n",
    "\n",
    "\n",
    "Train Data = ['travel_distance','travel_time']\n",
    "\n",
    "\n",
    "Test Data =[3.5,15]\n",
    "\n",
    "\n",
    "Serial No. |Column names      | Description\n",
    "---|---|---\n",
    "1 |         travel_distance   | Distance of trip measured in KMs\n",
    "2 |         travel_time       | Duration of the trip measured in Minutes\n",
    "3 |         trip_fare         | Trip fare calculated in Rupees\n"
   ]
  },
  {
   "cell_type": "markdown",
   "metadata": {},
   "source": [
    "### EDA and Error Handling\n",
    "\n",
    "`Time Related Error`"
   ]
  },
  {
   "cell_type": "code",
   "execution_count": 28,
   "metadata": {},
   "outputs": [
    {
     "name": "stdout",
     "output_type": "stream",
     "text": [
      "       travel_distance  travel_time  trip_fare\n",
      "12636             -1.0    11.838667        959\n",
      "145               -1.0    19.247367        959\n",
      "17206             -1.0    11.014850        959\n",
      "42371              0.0     0.311767         20\n",
      "152                0.0     0.242750         20\n",
      "23053              0.0     0.182883         20\n",
      "35669              0.0     0.092817         20\n",
      "155                0.0     0.261333         20\n",
      "19505              0.0     0.366333         20\n",
      "6262               0.0     0.078567         20\n"
     ]
    }
   ],
   "source": [
    "rapido_model = rapido[['travel_distance', 'travel_time', 'trip_fare']]\n",
    "print(rapido_model.sort_values('travel_distance').head(10))\n"
   ]
  },
  {
   "cell_type": "markdown",
   "metadata": {},
   "source": [
    "As seen above there are a lot of errors in the data.\n",
    "There are 3 negative distance values which make no sense.\n",
    "\n",
    "For example, A customer travel  `-1 KM` in `11 minutes ` and was charged `959 rupees`. \n",
    "\n",
    "There 3 many entries with `0 KM ` distance travelled. \n",
    "\n",
    "**DELETING ALL SUCH ANOMALIES**\n",
    "\n",
    "---\n",
    "\n",
    "`Fare Related Error`"
   ]
  },
  {
   "cell_type": "code",
   "execution_count": 29,
   "metadata": {},
   "outputs": [
    {
     "data": {
      "image/png": "[encoded data removed]",
      "text/plain": [
       "<Figure size 720x576 with 2 Axes>"
      ]
     },
     "metadata": {},
     "output_type": "display_data"
    },
    {
     "data": {
      "text/plain": [
       "<seaborn.axisgrid.PairGrid at 0x11466fcccc0>"
      ]
     },
     "execution_count": 29,
     "metadata": {},
     "output_type": "execute_result"
    },
    {
     "data": {
      "image/png": "[encoded data removed]",
      "text/plain": [
       "<Figure size 540x540 with 12 Axes>"
      ]
     },
     "metadata": {},
     "output_type": "display_data"
    }
   ],
   "source": [
    "corr = rapido_model.sort_values('trip_fare',ascending=False).head().corr()\n",
    "hmap(corr,'Correlation between Travel Time, Travel Distance and Trip Fair')\n",
    "\n",
    "sb.pairplot(rapido_model[\n",
    "    ['travel_distance','travel_time','trip_fare']\n",
    "])\n"
   ]
  },
  {
   "cell_type": "markdown",
   "metadata": {},
   "source": [
    "**This contradicts the original data set**"
   ]
  },
  {
   "cell_type": "code",
   "execution_count": 30,
   "metadata": {},
   "outputs": [
    {
     "data": {
      "image/png": "[encoded data removed]",
      "text/plain": [
       "<Figure size 720x576 with 2 Axes>"
      ]
     },
     "metadata": {},
     "output_type": "display_data"
    },
    {
     "data": {
      "text/html": [
       "<div>\n",
       "<style scoped>\n",
       "    .dataframe tbody tr th:only-of-type {\n",
       "        vertical-align: middle;\n",
       "    }\n",
       "\n",
       "    .dataframe tbody tr th {\n",
       "        vertical-align: top;\n",
       "    }\n",
       "\n",
       "    .dataframe thead th {\n",
       "        text-align: right;\n",
       "    }\n",
       "</style>\n",
       "<table border=\"1\" class=\"dataframe\">\n",
       "  <thead>\n",
       "    <tr style=\"text-align: right;\">\n",
       "      <th></th>\n",
       "      <th>trip_id</th>\n",
       "      <th>customer_id</th>\n",
       "      <th>timestamp</th>\n",
       "      <th>pick_lat</th>\n",
       "      <th>pick_lng</th>\n",
       "      <th>drop_lat</th>\n",
       "      <th>drop_lng</th>\n",
       "      <th>travel_distance</th>\n",
       "      <th>travel_time</th>\n",
       "      <th>trip_fare</th>\n",
       "    </tr>\n",
       "  </thead>\n",
       "  <tbody>\n",
       "    <tr>\n",
       "      <th>42530</th>\n",
       "      <td>ID42531</td>\n",
       "      <td>CUST_18770</td>\n",
       "      <td>1546519406927</td>\n",
       "      <td>17.425972</td>\n",
       "      <td>78.340454</td>\n",
       "      <td>17.441185</td>\n",
       "      <td>78.391289</td>\n",
       "      <td>9.4</td>\n",
       "      <td>267.825483</td>\n",
       "      <td>1670</td>\n",
       "    </tr>\n",
       "    <tr>\n",
       "      <th>27304</th>\n",
       "      <td>ID27305</td>\n",
       "      <td>CUST_2196</td>\n",
       "      <td>1546858611537</td>\n",
       "      <td>17.404274</td>\n",
       "      <td>78.492340</td>\n",
       "      <td>17.411062</td>\n",
       "      <td>78.493576</td>\n",
       "      <td>2.7</td>\n",
       "      <td>10.949667</td>\n",
       "      <td>959</td>\n",
       "    </tr>\n",
       "    <tr>\n",
       "      <th>17206</th>\n",
       "      <td>ID17207</td>\n",
       "      <td>CUST_7151</td>\n",
       "      <td>1546407689604</td>\n",
       "      <td>17.433880</td>\n",
       "      <td>78.384483</td>\n",
       "      <td>17.441532</td>\n",
       "      <td>78.362556</td>\n",
       "      <td>-1.0</td>\n",
       "      <td>11.014850</td>\n",
       "      <td>959</td>\n",
       "    </tr>\n",
       "    <tr>\n",
       "      <th>145</th>\n",
       "      <td>ID146</td>\n",
       "      <td>CUST_142</td>\n",
       "      <td>1546712267334</td>\n",
       "      <td>17.396492</td>\n",
       "      <td>78.479980</td>\n",
       "      <td>17.368525</td>\n",
       "      <td>78.533218</td>\n",
       "      <td>-1.0</td>\n",
       "      <td>19.247367</td>\n",
       "      <td>959</td>\n",
       "    </tr>\n",
       "    <tr>\n",
       "      <th>36239</th>\n",
       "      <td>ID36240</td>\n",
       "      <td>CUST_6416</td>\n",
       "      <td>1546699878502</td>\n",
       "      <td>17.397224</td>\n",
       "      <td>78.480911</td>\n",
       "      <td>17.428328</td>\n",
       "      <td>78.450958</td>\n",
       "      <td>1.0</td>\n",
       "      <td>1.596217</td>\n",
       "      <td>959</td>\n",
       "    </tr>\n",
       "  </tbody>\n",
       "</table>\n",
       "</div>"
      ],
      "text/plain": [
       "       trip_id customer_id      timestamp   pick_lat   pick_lng   drop_lat  \\\n",
       "42530  ID42531  CUST_18770  1546519406927  17.425972  78.340454  17.441185   \n",
       "27304  ID27305   CUST_2196  1546858611537  17.404274  78.492340  17.411062   \n",
       "17206  ID17207   CUST_7151  1546407689604  17.433880  78.384483  17.441532   \n",
       "145      ID146    CUST_142  1546712267334  17.396492  78.479980  17.368525   \n",
       "36239  ID36240   CUST_6416  1546699878502  17.397224  78.480911  17.428328   \n",
       "\n",
       "        drop_lng  travel_distance  travel_time  trip_fare  \n",
       "42530  78.391289              9.4   267.825483       1670  \n",
       "27304  78.493576              2.7    10.949667        959  \n",
       "17206  78.362556             -1.0    11.014850        959  \n",
       "145    78.533218             -1.0    19.247367        959  \n",
       "36239  78.450958              1.0     1.596217        959  "
      ]
     },
     "execution_count": 30,
     "metadata": {},
     "output_type": "execute_result"
    }
   ],
   "source": [
    "\n",
    "corr = rapido[['travel_distance','travel_time','trip_fare']].corr()\n",
    "hmap(corr,'Correlation between Travel Time, Travel Distance and Trip Fair')\n",
    "rapido.sort_values('trip_fare',ascending=False).head()\n",
    "\n"
   ]
  },
  {
   "cell_type": "code",
   "execution_count": 31,
   "metadata": {},
   "outputs": [
    {
     "data": {
      "text/html": [
       "<div>\n",
       "<style scoped>\n",
       "    .dataframe tbody tr th:only-of-type {\n",
       "        vertical-align: middle;\n",
       "    }\n",
       "\n",
       "    .dataframe tbody tr th {\n",
       "        vertical-align: top;\n",
       "    }\n",
       "\n",
       "    .dataframe thead th {\n",
       "        text-align: right;\n",
       "    }\n",
       "</style>\n",
       "<table border=\"1\" class=\"dataframe\">\n",
       "  <thead>\n",
       "    <tr style=\"text-align: right;\">\n",
       "      <th></th>\n",
       "      <th>travel_distance</th>\n",
       "      <th>travel_time</th>\n",
       "      <th>trip_fare</th>\n",
       "    </tr>\n",
       "  </thead>\n",
       "  <tbody>\n",
       "    <tr>\n",
       "      <th>42530</th>\n",
       "      <td>9.4</td>\n",
       "      <td>267.825483</td>\n",
       "      <td>1670</td>\n",
       "    </tr>\n",
       "    <tr>\n",
       "      <th>27304</th>\n",
       "      <td>2.7</td>\n",
       "      <td>10.949667</td>\n",
       "      <td>959</td>\n",
       "    </tr>\n",
       "    <tr>\n",
       "      <th>17206</th>\n",
       "      <td>-1.0</td>\n",
       "      <td>11.014850</td>\n",
       "      <td>959</td>\n",
       "    </tr>\n",
       "    <tr>\n",
       "      <th>145</th>\n",
       "      <td>-1.0</td>\n",
       "      <td>19.247367</td>\n",
       "      <td>959</td>\n",
       "    </tr>\n",
       "    <tr>\n",
       "      <th>36239</th>\n",
       "      <td>1.0</td>\n",
       "      <td>1.596217</td>\n",
       "      <td>959</td>\n",
       "    </tr>\n",
       "  </tbody>\n",
       "</table>\n",
       "</div>"
      ],
      "text/plain": [
       "       travel_distance  travel_time  trip_fare\n",
       "42530              9.4   267.825483       1670\n",
       "27304              2.7    10.949667        959\n",
       "17206             -1.0    11.014850        959\n",
       "145               -1.0    19.247367        959\n",
       "36239              1.0     1.596217        959"
      ]
     },
     "execution_count": 31,
     "metadata": {},
     "output_type": "execute_result"
    }
   ],
   "source": [
    "rapido_model.sort_values('trip_fare',ascending=False).head()"
   ]
  },
  {
   "cell_type": "markdown",
   "metadata": {},
   "source": [
    "First 4 entries are clear anomalies in dataset, since there is no relation between the distance, time or fare\n",
    "Hence removing them from the dataset makes sense. \n"
   ]
  },
  {
   "cell_type": "code",
   "execution_count": 32,
   "metadata": {},
   "outputs": [
    {
     "name": "stdout",
     "output_type": "stream",
     "text": [
      "9th row from the last was fared wrong. Need to remove \n"
     ]
    },
    {
     "data": {
      "text/html": [
       "<div>\n",
       "<style scoped>\n",
       "    .dataframe tbody tr th:only-of-type {\n",
       "        vertical-align: middle;\n",
       "    }\n",
       "\n",
       "    .dataframe tbody tr th {\n",
       "        vertical-align: top;\n",
       "    }\n",
       "\n",
       "    .dataframe thead th {\n",
       "        text-align: right;\n",
       "    }\n",
       "</style>\n",
       "<table border=\"1\" class=\"dataframe\">\n",
       "  <thead>\n",
       "    <tr style=\"text-align: right;\">\n",
       "      <th></th>\n",
       "      <th>travel_distance</th>\n",
       "      <th>travel_time</th>\n",
       "      <th>trip_fare</th>\n",
       "    </tr>\n",
       "  </thead>\n",
       "  <tbody>\n",
       "    <tr>\n",
       "      <th>42530</th>\n",
       "      <td>9.4</td>\n",
       "      <td>267.825483</td>\n",
       "      <td>1670</td>\n",
       "    </tr>\n",
       "    <tr>\n",
       "      <th>27304</th>\n",
       "      <td>2.7</td>\n",
       "      <td>10.949667</td>\n",
       "      <td>959</td>\n",
       "    </tr>\n",
       "    <tr>\n",
       "      <th>17206</th>\n",
       "      <td>-1.0</td>\n",
       "      <td>11.014850</td>\n",
       "      <td>959</td>\n",
       "    </tr>\n",
       "    <tr>\n",
       "      <th>145</th>\n",
       "      <td>-1.0</td>\n",
       "      <td>19.247367</td>\n",
       "      <td>959</td>\n",
       "    </tr>\n",
       "    <tr>\n",
       "      <th>36239</th>\n",
       "      <td>1.0</td>\n",
       "      <td>1.596217</td>\n",
       "      <td>959</td>\n",
       "    </tr>\n",
       "  </tbody>\n",
       "</table>\n",
       "</div>"
      ],
      "text/plain": [
       "       travel_distance  travel_time  trip_fare\n",
       "42530              9.4   267.825483       1670\n",
       "27304              2.7    10.949667        959\n",
       "17206             -1.0    11.014850        959\n",
       "145               -1.0    19.247367        959\n",
       "36239              1.0     1.596217        959"
      ]
     },
     "execution_count": 32,
     "metadata": {},
     "output_type": "execute_result"
    }
   ],
   "source": [
    "print('9th row from the last was fared wrong. Need to remove ')\n",
    "rapido_model.sort_values('trip_fare',ascending=False).head()\n"
   ]
  },
  {
   "cell_type": "code",
   "execution_count": 33,
   "metadata": {},
   "outputs": [],
   "source": [
    "# Filtering\n",
    "rapido_model = rapido_model[~(rapido_model['trip_fare'] == 20) & (rapido_model['travel_distance'] > .9)]\n",
    "\n",
    "rapido_model = rapido_model[rapido_model['travel_distance'] > 0]"
   ]
  },
  {
   "cell_type": "markdown",
   "metadata": {},
   "source": [
    "Most people travelled between distance 0 and 10 KM \n",
    "\n",
    "> Observation - Customers prefer rapido for short trips.\n",
    "\n",
    "#### Filtering Data"
   ]
  },
  {
   "cell_type": "code",
   "execution_count": 34,
   "metadata": {},
   "outputs": [
    {
     "data": {
      "text/html": [
       "<div>\n",
       "<style scoped>\n",
       "    .dataframe tbody tr th:only-of-type {\n",
       "        vertical-align: middle;\n",
       "    }\n",
       "\n",
       "    .dataframe tbody tr th {\n",
       "        vertical-align: top;\n",
       "    }\n",
       "\n",
       "    .dataframe thead th {\n",
       "        text-align: right;\n",
       "    }\n",
       "</style>\n",
       "<table border=\"1\" class=\"dataframe\">\n",
       "  <thead>\n",
       "    <tr style=\"text-align: right;\">\n",
       "      <th></th>\n",
       "      <th>travel_distance</th>\n",
       "      <th>travel_time</th>\n",
       "      <th>trip_fare</th>\n",
       "      <th>speed</th>\n",
       "    </tr>\n",
       "  </thead>\n",
       "  <tbody>\n",
       "    <tr>\n",
       "      <th>32164</th>\n",
       "      <td>25.690</td>\n",
       "      <td>142.484950</td>\n",
       "      <td>275</td>\n",
       "      <td>10.817985</td>\n",
       "    </tr>\n",
       "    <tr>\n",
       "      <th>18078</th>\n",
       "      <td>26.676</td>\n",
       "      <td>122.900400</td>\n",
       "      <td>314</td>\n",
       "      <td>13.023229</td>\n",
       "    </tr>\n",
       "    <tr>\n",
       "      <th>14422</th>\n",
       "      <td>20.544</td>\n",
       "      <td>117.289150</td>\n",
       "      <td>239</td>\n",
       "      <td>10.509412</td>\n",
       "    </tr>\n",
       "    <tr>\n",
       "      <th>40951</th>\n",
       "      <td>18.706</td>\n",
       "      <td>108.660950</td>\n",
       "      <td>199</td>\n",
       "      <td>10.329010</td>\n",
       "    </tr>\n",
       "    <tr>\n",
       "      <th>17500</th>\n",
       "      <td>19.886</td>\n",
       "      <td>107.459217</td>\n",
       "      <td>226</td>\n",
       "      <td>11.103375</td>\n",
       "    </tr>\n",
       "  </tbody>\n",
       "</table>\n",
       "</div>"
      ],
      "text/plain": [
       "       travel_distance  travel_time  trip_fare      speed\n",
       "32164           25.690   142.484950        275  10.817985\n",
       "18078           26.676   122.900400        314  13.023229\n",
       "14422           20.544   117.289150        239  10.509412\n",
       "40951           18.706   108.660950        199  10.329010\n",
       "17500           19.886   107.459217        226  11.103375"
      ]
     },
     "execution_count": 34,
     "metadata": {},
     "output_type": "execute_result"
    }
   ],
   "source": [
    "\n",
    "# Speed : 10 - 120\n",
    "# Trip-Fare : < 522\n",
    "rapido_model['speed'] = rapido_model['travel_distance']/(rapido_model['travel_time']/60)\n",
    "rapido_model.sort_values(['travel_distance'],ascending=False).head(20)\n",
    "\n",
    "# Choosing value of speed between 10 and 120\n",
    "rapido_model = rapido_model[rapido_model['speed'].between(10,120)]\n",
    "\n",
    "## values above 522 are anomalies as the data do not add up.\n",
    "rapido_model = rapido_model[rapido_model['trip_fare']<522] \n",
    "rapido_model.sort_values('travel_time',ascending=False).head()"
   ]
  },
  {
   "cell_type": "code",
   "execution_count": 35,
   "metadata": {},
   "outputs": [
    {
     "name": "stdout",
     "output_type": "stream",
     "text": [
      "(0.854, 5.486]      0.631750\n",
      "(5.486, 10.07]      0.284227\n",
      "(10.07, 14.655]     0.064532\n",
      "(14.655, 19.239]    0.015164\n",
      "(19.239, 23.824]    0.003233\n",
      "(23.824, 28.409]    0.000808\n",
      "(28.409, 32.993]    0.000238\n",
      "(42.162, 46.747]    0.000024\n",
      "(37.578, 42.162]    0.000024\n",
      "(32.993, 37.578]    0.000000\n",
      "Name: travel_distance, dtype: float64\n"
     ]
    },
    {
     "data": {
      "image/png": "[encoded data removed]",
      "text/plain": [
       "<Figure size 432x288 with 1 Axes>"
      ]
     },
     "metadata": {},
     "output_type": "display_data"
    }
   ],
   "source": [
    "print(rapido_model['travel_distance'].value_counts(normalize= True,bins=10))\n",
    "\n",
    "ax = sb.distplot(rapido_model['travel_distance'],hist=False,color=\"g\", kde_kws={\"shade\": True},norm_hist=False);\n",
    "plt.title('Distance Distribution')\n",
    "plt.show()"
   ]
  },
  {
   "cell_type": "code",
   "execution_count": 36,
   "metadata": {},
   "outputs": [
    {
     "name": "stdout",
     "output_type": "stream",
     "text": [
      "\n",
      "There are no missing values:\n",
      " travel_distance    0\n",
      "travel_time        0\n",
      "trip_fare          0\n",
      "speed              0\n",
      "dtype: int64\n"
     ]
    }
   ],
   "source": [
    "#Checking for missing Values\n",
    "print ('\\nThere are no missing values:\\n', rapido_model.isnull().sum())"
   ]
  },
  {
   "cell_type": "code",
   "execution_count": 37,
   "metadata": {},
   "outputs": [
    {
     "name": "stdout",
     "output_type": "stream",
     "text": [
      "(0.732, 15.035]       0.579340\n",
      "(15.035, 29.196]      0.329459\n",
      "(29.196, 43.358]      0.070926\n",
      "(43.358, 57.519]      0.015711\n",
      "(57.519, 71.68]       0.003185\n",
      "(71.68, 85.841]       0.000879\n",
      "(85.841, 100.002]     0.000261\n",
      "(100.002, 114.163]    0.000166\n",
      "(114.163, 128.324]    0.000048\n",
      "(128.324, 142.485]    0.000024\n",
      "Name: travel_time, dtype: float64\n"
     ]
    },
    {
     "data": {
      "image/png": "[encoded data removed]",
      "text/plain": [
       "<Figure size 432x288 with 1 Axes>"
      ]
     },
     "metadata": {},
     "output_type": "display_data"
    }
   ],
   "source": [
    "print(rapido_model['travel_time'].value_counts(normalize= True,bins=10))\n",
    "\n",
    "ax = sb.distplot(rapido_model['travel_time'],hist=False,color=\"r\", kde_kws={\"shade\": True});\n",
    "plt.title('Time Distribution')\n",
    "plt.show()"
   ]
  },
  {
   "cell_type": "code",
   "execution_count": 38,
   "metadata": {},
   "outputs": [
    {
     "name": "stdout",
     "output_type": "stream",
     "text": [
      "(9.894, 20.886]      0.550556\n",
      "(20.886, 31.769]     0.401074\n",
      "(31.769, 42.652]     0.043711\n",
      "(42.652, 53.535]     0.003565\n",
      "(53.535, 64.418]     0.000523\n",
      "(75.301, 86.184]     0.000190\n",
      "(64.418, 75.301]     0.000166\n",
      "(97.067, 107.95]     0.000095\n",
      "(107.95, 118.833]    0.000071\n",
      "(86.184, 97.067]     0.000048\n",
      "Name: speed, dtype: float64\n"
     ]
    },
    {
     "data": {
      "image/png": "[encoded data removed]",
      "text/plain": [
       "<Figure size 432x288 with 1 Axes>"
      ]
     },
     "metadata": {},
     "output_type": "display_data"
    }
   ],
   "source": [
    "print(rapido_model['speed'].value_counts(normalize= True,bins=10))\n",
    "\n",
    "ax = sb.distplot(rapido_model['speed'],hist=False, kde_kws={\"shade\": True});\n",
    "plt.title('Speed Distribution')\n",
    "plt.show()"
   ]
  },
  {
   "cell_type": "code",
   "execution_count": 39,
   "metadata": {},
   "outputs": [
    {
     "data": {
      "text/html": [
       "<div>\n",
       "<style scoped>\n",
       "    .dataframe tbody tr th:only-of-type {\n",
       "        vertical-align: middle;\n",
       "    }\n",
       "\n",
       "    .dataframe tbody tr th {\n",
       "        vertical-align: top;\n",
       "    }\n",
       "\n",
       "    .dataframe thead th {\n",
       "        text-align: right;\n",
       "    }\n",
       "</style>\n",
       "<table border=\"1\" class=\"dataframe\">\n",
       "  <thead>\n",
       "    <tr style=\"text-align: right;\">\n",
       "      <th></th>\n",
       "      <th>travel_distance</th>\n",
       "      <th>travel_time</th>\n",
       "      <th>trip_fare</th>\n",
       "      <th>speed</th>\n",
       "    </tr>\n",
       "  </thead>\n",
       "  <tbody>\n",
       "    <tr>\n",
       "      <th>32164</th>\n",
       "      <td>25.690</td>\n",
       "      <td>142.484950</td>\n",
       "      <td>275</td>\n",
       "      <td>10.817985</td>\n",
       "    </tr>\n",
       "    <tr>\n",
       "      <th>18078</th>\n",
       "      <td>26.676</td>\n",
       "      <td>122.900400</td>\n",
       "      <td>314</td>\n",
       "      <td>13.023229</td>\n",
       "    </tr>\n",
       "    <tr>\n",
       "      <th>14422</th>\n",
       "      <td>20.544</td>\n",
       "      <td>117.289150</td>\n",
       "      <td>239</td>\n",
       "      <td>10.509412</td>\n",
       "    </tr>\n",
       "    <tr>\n",
       "      <th>40951</th>\n",
       "      <td>18.706</td>\n",
       "      <td>108.660950</td>\n",
       "      <td>199</td>\n",
       "      <td>10.329010</td>\n",
       "    </tr>\n",
       "    <tr>\n",
       "      <th>17500</th>\n",
       "      <td>19.886</td>\n",
       "      <td>107.459217</td>\n",
       "      <td>226</td>\n",
       "      <td>11.103375</td>\n",
       "    </tr>\n",
       "  </tbody>\n",
       "</table>\n",
       "</div>"
      ],
      "text/plain": [
       "       travel_distance  travel_time  trip_fare      speed\n",
       "32164           25.690   142.484950        275  10.817985\n",
       "18078           26.676   122.900400        314  13.023229\n",
       "14422           20.544   117.289150        239  10.509412\n",
       "40951           18.706   108.660950        199  10.329010\n",
       "17500           19.886   107.459217        226  11.103375"
      ]
     },
     "execution_count": 39,
     "metadata": {},
     "output_type": "execute_result"
    }
   ],
   "source": [
    "# print(rapido_model['travel_time'].value_counts(normalize= True,bins=2))\n",
    "\n",
    "# ax = sb.distplot(rapido_model['travel_time'],hist=False);\n",
    "# rapido_model2 = rapido_model[rapido_model['travel_time']<61 ]\n",
    "rapido_model = rapido_model.sort_values('travel_time',ascending=False)\n",
    "rapido_model.head()"
   ]
  },
  {
   "cell_type": "markdown",
   "metadata": {},
   "source": [
    "DATA AFTER ERROR HANDLING Exploring Filtered DataSet"
   ]
  },
  {
   "cell_type": "code",
   "execution_count": 40,
   "metadata": {},
   "outputs": [
    {
     "data": {
      "image/png": "[encoded data removed]",
      "text/plain": [
       "<Figure size 720x576 with 2 Axes>"
      ]
     },
     "metadata": {},
     "output_type": "display_data"
    },
    {
     "data": {
      "image/png": "[encoded data removed]",
      "text/plain": [
       "<Figure size 720x576 with 2 Axes>"
      ]
     },
     "metadata": {},
     "output_type": "display_data"
    }
   ],
   "source": [
    "corr = rapido_model[['travel_distance','trip_fare']].corr()\n",
    "hmap(corr,'Correlation between  Travel Distance and Trip Fair')\n",
    "\n",
    "\n",
    "corr = rapido_model[['travel_time','trip_fare']].corr()\n",
    "hmap(corr,'Correlation between Travel Time and Trip Fair')"
   ]
  },
  {
   "cell_type": "markdown",
   "metadata": {},
   "source": [
    "After Data filtering we see an increase in correlation between travel metrics.\n",
    "\n",
    "Since there is a high correlation between Travel Distance and  Trip Fare, of 0.91. Trip Fare is in a linear relationship with distance."
   ]
  },
  {
   "cell_type": "code",
   "execution_count": 41,
   "metadata": {},
   "outputs": [
    {
     "data": {
      "image/png": "[encoded data removed]",
      "text/plain": [
       "<Figure size 540x540 with 12 Axes>"
      ]
     },
     "metadata": {},
     "output_type": "display_data"
    }
   ],
   "source": [
    "# Splitting into  Training and Test Data\n",
    "train_data = rapido_model[['travel_distance','travel_time']]\n",
    "labels = rapido_model['trip_fare']\n",
    "ax = sb.pairplot(rapido_model[\n",
    "    ['travel_distance','travel_time','trip_fare']\n",
    "])\n",
    "plt.title(\"Correlation Visualized\")\n",
    "plt.show()"
   ]
  },
  {
   "cell_type": "code",
   "execution_count": 42,
   "metadata": {},
   "outputs": [],
   "source": [
    "X_train,X_test,Y_train,Y_test = train_test_split(train_data,labels,random_state=0)\n",
    "\n",
    "sgd = SGDClassifier()\n",
    "sgd.fit(X_train,Y_train)\n",
    "predictions   = sgd.predict(X_test)"
   ]
  },
  {
   "cell_type": "code",
   "execution_count": 43,
   "metadata": {},
   "outputs": [
    {
     "data": {
      "text/html": [
       "<div>\n",
       "<style scoped>\n",
       "    .dataframe tbody tr th:only-of-type {\n",
       "        vertical-align: middle;\n",
       "    }\n",
       "\n",
       "    .dataframe tbody tr th {\n",
       "        vertical-align: top;\n",
       "    }\n",
       "\n",
       "    .dataframe thead th {\n",
       "        text-align: right;\n",
       "    }\n",
       "</style>\n",
       "<table border=\"1\" class=\"dataframe\">\n",
       "  <thead>\n",
       "    <tr style=\"text-align: right;\">\n",
       "      <th></th>\n",
       "      <th>travel_distance</th>\n",
       "      <th>travel_time</th>\n",
       "    </tr>\n",
       "  </thead>\n",
       "  <tbody>\n",
       "    <tr>\n",
       "      <th>0</th>\n",
       "      <td>3.5</td>\n",
       "      <td>15.0</td>\n",
       "    </tr>\n",
       "  </tbody>\n",
       "</table>\n",
       "</div>"
      ],
      "text/plain": [
       "   travel_distance  travel_time\n",
       "0              3.5         15.0"
      ]
     },
     "execution_count": 43,
     "metadata": {},
     "output_type": "execute_result"
    }
   ],
   "source": [
    "X_test_2 = pd.DataFrame([[3.5,15.0]],columns=['travel_distance','travel_time'])\n",
    "X_test_2"
   ]
  },
  {
   "cell_type": "code",
   "execution_count": 44,
   "metadata": {},
   "outputs": [
    {
     "data": {
      "text/plain": [
       "73"
      ]
     },
     "execution_count": 44,
     "metadata": {},
     "output_type": "execute_result"
    }
   ],
   "source": [
    "prediction = sgd.predict(X_test_2)\n",
    "prediction[0]"
   ]
  },
  {
   "cell_type": "code",
   "execution_count": 45,
   "metadata": {},
   "outputs": [
    {
     "data": {
      "text/html": [
       "<div>\n",
       "<style scoped>\n",
       "    .dataframe tbody tr th:only-of-type {\n",
       "        vertical-align: middle;\n",
       "    }\n",
       "\n",
       "    .dataframe tbody tr th {\n",
       "        vertical-align: top;\n",
       "    }\n",
       "\n",
       "    .dataframe thead th {\n",
       "        text-align: right;\n",
       "    }\n",
       "</style>\n",
       "<table border=\"1\" class=\"dataframe\">\n",
       "  <thead>\n",
       "    <tr style=\"text-align: right;\">\n",
       "      <th></th>\n",
       "      <th>travel_distance</th>\n",
       "      <th>travel_time</th>\n",
       "      <th>trip_fare</th>\n",
       "      <th>speed</th>\n",
       "    </tr>\n",
       "  </thead>\n",
       "  <tbody>\n",
       "  </tbody>\n",
       "</table>\n",
       "</div>"
      ],
      "text/plain": [
       "Empty DataFrame\n",
       "Columns: [travel_distance, travel_time, trip_fare, speed]\n",
       "Index: []"
      ]
     },
     "execution_count": 45,
     "metadata": {},
     "output_type": "execute_result"
    }
   ],
   "source": [
    "rapido_model[rapido_model['travel_time'] == 3.5]"
   ]
  },
  {
   "cell_type": "markdown",
   "metadata": {},
   "source": [
    "# Part 4. Top Hex clusters\n",
    "Top 5 pairs of hex (resolution=8) clusters where most of the trips happened? You can refer to the\n",
    "library listed below to get hexid for a given latitude and longitude.\n",
    "-  https://github.com/uber/h3-py\n",
    "\n",
    "Expected output\n",
    "\n",
    "Rank Hex | pair (source_hexid, destination_hexid) |  Total trips\n",
    "---|---|---\n",
    "1 | 883c8e4159fffff to 88754e6499fffff |34\n",
    "2 | 883db66b55fffff to 883c8e4159fffff | 28"
   ]
  },
  {
   "cell_type": "markdown",
   "metadata": {},
   "source": [
    "\n"
   ]
  },
  {
   "cell_type": "markdown",
   "metadata": {},
   "source": [
    "### Errors in Data\n",
    "This image show the Error in drop location.Exluding all location outside Hyderabad\n",
    "![Error In Geo Data](images/Error.PNG)"
   ]
  },
  {
   "cell_type": "markdown",
   "metadata": {},
   "source": [
    "### Error Handling\n",
    "Based on findings from Tablue Worksheet.\n",
    "Removing Entries or locations which are outside Hyderabad.\n",
    "Remove 4 Drop Entries from spatial part of data with Ids.\n",
    " - ID25712\n",
    " - ID35159\n",
    " - ID39114\n",
    " - ID30988"
   ]
  },
  {
   "cell_type": "code",
   "execution_count": 46,
   "metadata": {},
   "outputs": [
    {
     "data": {
      "text/html": [
       "<div>\n",
       "<style scoped>\n",
       "    .dataframe tbody tr th:only-of-type {\n",
       "        vertical-align: middle;\n",
       "    }\n",
       "\n",
       "    .dataframe tbody tr th {\n",
       "        vertical-align: top;\n",
       "    }\n",
       "\n",
       "    .dataframe thead th {\n",
       "        text-align: right;\n",
       "    }\n",
       "</style>\n",
       "<table border=\"1\" class=\"dataframe\">\n",
       "  <thead>\n",
       "    <tr style=\"text-align: right;\">\n",
       "      <th></th>\n",
       "      <th>trip_id</th>\n",
       "      <th>customer_id</th>\n",
       "      <th>timestamp</th>\n",
       "      <th>pick_lat</th>\n",
       "      <th>pick_lng</th>\n",
       "      <th>drop_lat</th>\n",
       "      <th>drop_lng</th>\n",
       "      <th>travel_distance</th>\n",
       "      <th>travel_time</th>\n",
       "      <th>trip_fare</th>\n",
       "    </tr>\n",
       "  </thead>\n",
       "  <tbody>\n",
       "    <tr>\n",
       "      <th>39113</th>\n",
       "      <td>ID39114</td>\n",
       "      <td>CUST_3041</td>\n",
       "      <td>1546492009096</td>\n",
       "      <td>17.415167</td>\n",
       "      <td>78.425278</td>\n",
       "      <td>17.482946</td>\n",
       "      <td>78.032783</td>\n",
       "      <td>3.647</td>\n",
       "      <td>13.02025</td>\n",
       "      <td>40</td>\n",
       "    </tr>\n",
       "  </tbody>\n",
       "</table>\n",
       "</div>"
      ],
      "text/plain": [
       "       trip_id customer_id      timestamp   pick_lat   pick_lng   drop_lat  \\\n",
       "39113  ID39114   CUST_3041  1546492009096  17.415167  78.425278  17.482946   \n",
       "\n",
       "        drop_lng  travel_distance  travel_time  trip_fare  \n",
       "39113  78.032783            3.647     13.02025         40  "
      ]
     },
     "execution_count": 46,
     "metadata": {},
     "output_type": "execute_result"
    }
   ],
   "source": [
    "rapido[rapido['drop_lat'] == 17.4829464]"
   ]
  },
  {
   "cell_type": "code",
   "execution_count": null,
   "metadata": {},
   "outputs": [],
   "source": []
  },
  {
   "cell_type": "code",
   "execution_count": 47,
   "metadata": {},
   "outputs": [
    {
     "data": {
      "text/html": [
       "<div>\n",
       "<style scoped>\n",
       "    .dataframe tbody tr th:only-of-type {\n",
       "        vertical-align: middle;\n",
       "    }\n",
       "\n",
       "    .dataframe tbody tr th {\n",
       "        vertical-align: top;\n",
       "    }\n",
       "\n",
       "    .dataframe thead th {\n",
       "        text-align: right;\n",
       "    }\n",
       "</style>\n",
       "<table border=\"1\" class=\"dataframe\">\n",
       "  <thead>\n",
       "    <tr style=\"text-align: right;\">\n",
       "      <th></th>\n",
       "      <th>trip_id</th>\n",
       "      <th>customer_id</th>\n",
       "      <th>timestamp</th>\n",
       "      <th>pick_lat</th>\n",
       "      <th>pick_lng</th>\n",
       "      <th>drop_lat</th>\n",
       "      <th>drop_lng</th>\n",
       "      <th>travel_distance</th>\n",
       "      <th>travel_time</th>\n",
       "      <th>trip_fare</th>\n",
       "    </tr>\n",
       "  </thead>\n",
       "  <tbody>\n",
       "    <tr>\n",
       "      <th>35158</th>\n",
       "      <td>ID35159</td>\n",
       "      <td>CUST_4572</td>\n",
       "      <td>1546692501613</td>\n",
       "      <td>17.394796</td>\n",
       "      <td>78.435707</td>\n",
       "      <td>17.352018</td>\n",
       "      <td>78.230537</td>\n",
       "      <td>2.836</td>\n",
       "      <td>6.5822</td>\n",
       "      <td>35</td>\n",
       "    </tr>\n",
       "  </tbody>\n",
       "</table>\n",
       "</div>"
      ],
      "text/plain": [
       "       trip_id customer_id      timestamp   pick_lat   pick_lng   drop_lat  \\\n",
       "35158  ID35159   CUST_4572  1546692501613  17.394796  78.435707  17.352018   \n",
       "\n",
       "        drop_lng  travel_distance  travel_time  trip_fare  \n",
       "35158  78.230537            2.836       6.5822         35  "
      ]
     },
     "execution_count": 47,
     "metadata": {},
     "output_type": "execute_result"
    }
   ],
   "source": [
    "rapido[rapido['drop_lat'] == 17.3520184]"
   ]
  },
  {
   "cell_type": "code",
   "execution_count": 48,
   "metadata": {},
   "outputs": [
    {
     "data": {
      "text/html": [
       "<div>\n",
       "<style scoped>\n",
       "    .dataframe tbody tr th:only-of-type {\n",
       "        vertical-align: middle;\n",
       "    }\n",
       "\n",
       "    .dataframe tbody tr th {\n",
       "        vertical-align: top;\n",
       "    }\n",
       "\n",
       "    .dataframe thead th {\n",
       "        text-align: right;\n",
       "    }\n",
       "</style>\n",
       "<table border=\"1\" class=\"dataframe\">\n",
       "  <thead>\n",
       "    <tr style=\"text-align: right;\">\n",
       "      <th></th>\n",
       "      <th>trip_id</th>\n",
       "      <th>customer_id</th>\n",
       "      <th>timestamp</th>\n",
       "      <th>pick_lat</th>\n",
       "      <th>pick_lng</th>\n",
       "      <th>drop_lat</th>\n",
       "      <th>drop_lng</th>\n",
       "      <th>travel_distance</th>\n",
       "      <th>travel_time</th>\n",
       "      <th>trip_fare</th>\n",
       "    </tr>\n",
       "  </thead>\n",
       "  <tbody>\n",
       "    <tr>\n",
       "      <th>25711</th>\n",
       "      <td>ID25712</td>\n",
       "      <td>CUST_1551</td>\n",
       "      <td>1546845012421</td>\n",
       "      <td>17.446897</td>\n",
       "      <td>78.388855</td>\n",
       "      <td>12.921696</td>\n",
       "      <td>77.548103</td>\n",
       "      <td>4.183</td>\n",
       "      <td>11.418383</td>\n",
       "      <td>47</td>\n",
       "    </tr>\n",
       "  </tbody>\n",
       "</table>\n",
       "</div>"
      ],
      "text/plain": [
       "       trip_id customer_id      timestamp   pick_lat   pick_lng   drop_lat  \\\n",
       "25711  ID25712   CUST_1551  1546845012421  17.446897  78.388855  12.921696   \n",
       "\n",
       "        drop_lng  travel_distance  travel_time  trip_fare  \n",
       "25711  77.548103            4.183    11.418383         47  "
      ]
     },
     "execution_count": 48,
     "metadata": {},
     "output_type": "execute_result"
    }
   ],
   "source": [
    "rapido[rapido['drop_lat'] == 12.9216957]"
   ]
  },
  {
   "cell_type": "code",
   "execution_count": 49,
   "metadata": {},
   "outputs": [
    {
     "data": {
      "text/html": [
       "<div>\n",
       "<style scoped>\n",
       "    .dataframe tbody tr th:only-of-type {\n",
       "        vertical-align: middle;\n",
       "    }\n",
       "\n",
       "    .dataframe tbody tr th {\n",
       "        vertical-align: top;\n",
       "    }\n",
       "\n",
       "    .dataframe thead th {\n",
       "        text-align: right;\n",
       "    }\n",
       "</style>\n",
       "<table border=\"1\" class=\"dataframe\">\n",
       "  <thead>\n",
       "    <tr style=\"text-align: right;\">\n",
       "      <th></th>\n",
       "      <th>trip_id</th>\n",
       "      <th>customer_id</th>\n",
       "      <th>timestamp</th>\n",
       "      <th>pick_lat</th>\n",
       "      <th>pick_lng</th>\n",
       "      <th>drop_lat</th>\n",
       "      <th>drop_lng</th>\n",
       "      <th>travel_distance</th>\n",
       "      <th>travel_time</th>\n",
       "      <th>trip_fare</th>\n",
       "    </tr>\n",
       "  </thead>\n",
       "  <tbody>\n",
       "    <tr>\n",
       "      <th>30987</th>\n",
       "      <td>ID30988</td>\n",
       "      <td>CUST_4562</td>\n",
       "      <td>1546657274827</td>\n",
       "      <td>17.405493</td>\n",
       "      <td>78.450882</td>\n",
       "      <td>17.736155</td>\n",
       "      <td>78.479485</td>\n",
       "      <td>11.17</td>\n",
       "      <td>35.80665</td>\n",
       "      <td>116</td>\n",
       "    </tr>\n",
       "  </tbody>\n",
       "</table>\n",
       "</div>"
      ],
      "text/plain": [
       "       trip_id customer_id      timestamp   pick_lat   pick_lng   drop_lat  \\\n",
       "30987  ID30988   CUST_4562  1546657274827  17.405493  78.450882  17.736155   \n",
       "\n",
       "        drop_lng  travel_distance  travel_time  trip_fare  \n",
       "30987  78.479485            11.17     35.80665        116  "
      ]
     },
     "execution_count": 49,
     "metadata": {},
     "output_type": "execute_result"
    }
   ],
   "source": [
    "rapido[rapido['drop_lat'] == 17.7361546]"
   ]
  },
  {
   "cell_type": "code",
   "execution_count": 50,
   "metadata": {},
   "outputs": [],
   "source": [
    "rapido_hex_geo = rapido.copy()\n",
    "rapido_hex_geo  = rapido_hex_geo[(rapido_hex_geo['drop_lat'] != 12.9216957) &  (rapido_hex_geo['drop_lat'] != 17.3520184) & (rapido_hex_geo['drop_lat'] != 17.4829464) & (rapido_hex_geo['drop_lat'] != 17.7361546)]"
   ]
  },
  {
   "cell_type": "code",
   "execution_count": 51,
   "metadata": {},
   "outputs": [
    {
     "data": {
      "text/html": [
       "<div>\n",
       "<style scoped>\n",
       "    .dataframe tbody tr th:only-of-type {\n",
       "        vertical-align: middle;\n",
       "    }\n",
       "\n",
       "    .dataframe tbody tr th {\n",
       "        vertical-align: top;\n",
       "    }\n",
       "\n",
       "    .dataframe thead th {\n",
       "        text-align: right;\n",
       "    }\n",
       "</style>\n",
       "<table border=\"1\" class=\"dataframe\">\n",
       "  <thead>\n",
       "    <tr style=\"text-align: right;\">\n",
       "      <th></th>\n",
       "      <th>trip_id</th>\n",
       "      <th>customer_id</th>\n",
       "      <th>timestamp</th>\n",
       "      <th>pick_lat</th>\n",
       "      <th>pick_lng</th>\n",
       "      <th>drop_lat</th>\n",
       "      <th>drop_lng</th>\n",
       "      <th>travel_distance</th>\n",
       "      <th>travel_time</th>\n",
       "      <th>trip_fare</th>\n",
       "    </tr>\n",
       "  </thead>\n",
       "  <tbody>\n",
       "    <tr>\n",
       "      <th>0</th>\n",
       "      <td>ID001</td>\n",
       "      <td>CUST_001</td>\n",
       "      <td>1546709270211</td>\n",
       "      <td>17.442705</td>\n",
       "      <td>78.387878</td>\n",
       "      <td>17.457829</td>\n",
       "      <td>78.399056</td>\n",
       "      <td>2.806</td>\n",
       "      <td>12.609667</td>\n",
       "      <td>37</td>\n",
       "    </tr>\n",
       "    <tr>\n",
       "      <th>1</th>\n",
       "      <td>ID002</td>\n",
       "      <td>CUST_002</td>\n",
       "      <td>1546709309524</td>\n",
       "      <td>17.490189</td>\n",
       "      <td>78.415512</td>\n",
       "      <td>17.450548</td>\n",
       "      <td>78.367294</td>\n",
       "      <td>11.991</td>\n",
       "      <td>24.075200</td>\n",
       "      <td>119</td>\n",
       "    </tr>\n",
       "    <tr>\n",
       "      <th>2</th>\n",
       "      <td>ID003</td>\n",
       "      <td>CUST_003</td>\n",
       "      <td>1546709331857</td>\n",
       "      <td>17.370108</td>\n",
       "      <td>78.515045</td>\n",
       "      <td>17.377041</td>\n",
       "      <td>78.517921</td>\n",
       "      <td>1.322</td>\n",
       "      <td>8.708300</td>\n",
       "      <td>27</td>\n",
       "    </tr>\n",
       "    <tr>\n",
       "      <th>3</th>\n",
       "      <td>ID004</td>\n",
       "      <td>CUST_004</td>\n",
       "      <td>1546709358403</td>\n",
       "      <td>17.439314</td>\n",
       "      <td>78.443001</td>\n",
       "      <td>17.397131</td>\n",
       "      <td>78.516586</td>\n",
       "      <td>11.822</td>\n",
       "      <td>24.037550</td>\n",
       "      <td>121</td>\n",
       "    </tr>\n",
       "    <tr>\n",
       "      <th>4</th>\n",
       "      <td>ID005</td>\n",
       "      <td>CUST_005</td>\n",
       "      <td>1546709386884</td>\n",
       "      <td>17.432325</td>\n",
       "      <td>78.381966</td>\n",
       "      <td>17.401625</td>\n",
       "      <td>78.400032</td>\n",
       "      <td>6.978</td>\n",
       "      <td>16.120867</td>\n",
       "      <td>58</td>\n",
       "    </tr>\n",
       "  </tbody>\n",
       "</table>\n",
       "</div>"
      ],
      "text/plain": [
       "  trip_id customer_id      timestamp   pick_lat   pick_lng   drop_lat  \\\n",
       "0   ID001    CUST_001  1546709270211  17.442705  78.387878  17.457829   \n",
       "1   ID002    CUST_002  1546709309524  17.490189  78.415512  17.450548   \n",
       "2   ID003    CUST_003  1546709331857  17.370108  78.515045  17.377041   \n",
       "3   ID004    CUST_004  1546709358403  17.439314  78.443001  17.397131   \n",
       "4   ID005    CUST_005  1546709386884  17.432325  78.381966  17.401625   \n",
       "\n",
       "    drop_lng  travel_distance  travel_time  trip_fare  \n",
       "0  78.399056            2.806    12.609667         37  \n",
       "1  78.367294           11.991    24.075200        119  \n",
       "2  78.517921            1.322     8.708300         27  \n",
       "3  78.516586           11.822    24.037550        121  \n",
       "4  78.400032            6.978    16.120867         58  "
      ]
     },
     "execution_count": 51,
     "metadata": {},
     "output_type": "execute_result"
    }
   ],
   "source": [
    "rapido_hex_geo.head() # REMOVE LATER"
   ]
  },
  {
   "cell_type": "markdown",
   "metadata": {},
   "source": [
    "After the fix \n",
    "![Filtered the Geo Data](images/Fixed.PNG)"
   ]
  },
  {
   "cell_type": "code",
   "execution_count": 52,
   "metadata": {},
   "outputs": [],
   "source": [
    "#Uncomment to check changes\n",
    "#rapido_hex_geo[rapido_hex_geo['drop_lat'] == 12.9216957]\n",
    "# rapido_hex_geo[rapido_hex_geo['drop_lat'] == 17.3520184]\n",
    "# rapido_hex_geo[rapido_hex_geo['drop_lat'] == 17.4829464]\n",
    "# rapido_hex_geo[rapido_hex_geo['drop_lat'] == 17.7361546]\n",
    "# OR \n",
    "#rapido_hex_geo.shape"
   ]
  },
  {
   "cell_type": "code",
   "execution_count": 53,
   "metadata": {},
   "outputs": [],
   "source": [
    "rapido_hex_geo = rapido.copy()\n",
    "resolution=8\n",
    "\n",
    "rapido_hex_geo = rapido_hex_geo[['pick_lat','pick_lng','drop_lat','drop_lng']]\n",
    "rapido_hex_geo[\"hex_id_pick\"] = rapido_hex_geo.apply(lambda row: h3.geo_to_h3(row[\"pick_lat\"], row[\"pick_lng\"], resolution), axis = 1)\n",
    "rapido_hex_geo[\"hex_id_drop\"] = rapido_hex_geo.apply(lambda row: h3.geo_to_h3(row[\"drop_lat\"], row[\"drop_lng\"], resolution), axis = 1)"
   ]
  },
  {
   "cell_type": "code",
   "execution_count": 54,
   "metadata": {},
   "outputs": [
    {
     "data": {
      "text/html": [
       "<div>\n",
       "<style scoped>\n",
       "    .dataframe tbody tr th:only-of-type {\n",
       "        vertical-align: middle;\n",
       "    }\n",
       "\n",
       "    .dataframe tbody tr th {\n",
       "        vertical-align: top;\n",
       "    }\n",
       "\n",
       "    .dataframe thead th {\n",
       "        text-align: right;\n",
       "    }\n",
       "</style>\n",
       "<table border=\"1\" class=\"dataframe\">\n",
       "  <thead>\n",
       "    <tr style=\"text-align: right;\">\n",
       "      <th></th>\n",
       "      <th>pick_lat</th>\n",
       "      <th>pick_lng</th>\n",
       "      <th>drop_lat</th>\n",
       "      <th>drop_lng</th>\n",
       "      <th>hex_id_pick</th>\n",
       "      <th>hex_id_drop</th>\n",
       "    </tr>\n",
       "  </thead>\n",
       "  <tbody>\n",
       "    <tr>\n",
       "      <th>0</th>\n",
       "      <td>17.442705</td>\n",
       "      <td>78.387878</td>\n",
       "      <td>17.457829</td>\n",
       "      <td>78.399056</td>\n",
       "      <td>8860a259b9fffff</td>\n",
       "      <td>8860a259a3fffff</td>\n",
       "    </tr>\n",
       "    <tr>\n",
       "      <th>1</th>\n",
       "      <td>17.490189</td>\n",
       "      <td>78.415512</td>\n",
       "      <td>17.450548</td>\n",
       "      <td>78.367294</td>\n",
       "      <td>8860b19695fffff</td>\n",
       "      <td>8860a24a65fffff</td>\n",
       "    </tr>\n",
       "    <tr>\n",
       "      <th>2</th>\n",
       "      <td>17.370108</td>\n",
       "      <td>78.515045</td>\n",
       "      <td>17.377041</td>\n",
       "      <td>78.517921</td>\n",
       "      <td>8860a25b4dfffff</td>\n",
       "      <td>8860b52e93fffff</td>\n",
       "    </tr>\n",
       "    <tr>\n",
       "      <th>3</th>\n",
       "      <td>17.439314</td>\n",
       "      <td>78.443001</td>\n",
       "      <td>17.397131</td>\n",
       "      <td>78.516586</td>\n",
       "      <td>8860a25915fffff</td>\n",
       "      <td>8860a25b65fffff</td>\n",
       "    </tr>\n",
       "    <tr>\n",
       "      <th>4</th>\n",
       "      <td>17.432325</td>\n",
       "      <td>78.381966</td>\n",
       "      <td>17.401625</td>\n",
       "      <td>78.400032</td>\n",
       "      <td>8860a25995fffff</td>\n",
       "      <td>8860a258e5fffff</td>\n",
       "    </tr>\n",
       "  </tbody>\n",
       "</table>\n",
       "</div>"
      ],
      "text/plain": [
       "    pick_lat   pick_lng   drop_lat   drop_lng      hex_id_pick  \\\n",
       "0  17.442705  78.387878  17.457829  78.399056  8860a259b9fffff   \n",
       "1  17.490189  78.415512  17.450548  78.367294  8860b19695fffff   \n",
       "2  17.370108  78.515045  17.377041  78.517921  8860a25b4dfffff   \n",
       "3  17.439314  78.443001  17.397131  78.516586  8860a25915fffff   \n",
       "4  17.432325  78.381966  17.401625  78.400032  8860a25995fffff   \n",
       "\n",
       "       hex_id_drop  \n",
       "0  8860a259a3fffff  \n",
       "1  8860a24a65fffff  \n",
       "2  8860b52e93fffff  \n",
       "3  8860a25b65fffff  \n",
       "4  8860a258e5fffff  "
      ]
     },
     "execution_count": 54,
     "metadata": {},
     "output_type": "execute_result"
    }
   ],
   "source": [
    "rapido_hex_geo.head() # REMOVE LATER"
   ]
  },
  {
   "cell_type": "code",
   "execution_count": 55,
   "metadata": {},
   "outputs": [],
   "source": [
    "# rapido_hex_geo.groupby(['hex_id_pick','hex_id_drop']).agg({i:'value_counts' for i in rapido_hex_geo.columns[5:]})\n",
    "rapido_hex_geo2 = rapido_hex_geo.groupby([\"hex_id_pick\", \"hex_id_drop\"]).size().reset_index(name=\"Trip\")\n",
    "rapido_hex_geo2 = rapido_hex_geo2.sort_values('Trip',ascending=False)"
   ]
  },
  {
   "cell_type": "code",
   "execution_count": 56,
   "metadata": {},
   "outputs": [
    {
     "data": {
      "text/html": [
       "<div>\n",
       "<style scoped>\n",
       "    .dataframe tbody tr th:only-of-type {\n",
       "        vertical-align: middle;\n",
       "    }\n",
       "\n",
       "    .dataframe tbody tr th {\n",
       "        vertical-align: top;\n",
       "    }\n",
       "\n",
       "    .dataframe thead th {\n",
       "        text-align: right;\n",
       "    }\n",
       "</style>\n",
       "<table border=\"1\" class=\"dataframe\">\n",
       "  <thead>\n",
       "    <tr style=\"text-align: right;\">\n",
       "      <th></th>\n",
       "      <th>hex_id_pick</th>\n",
       "      <th>hex_id_drop</th>\n",
       "      <th>Trip</th>\n",
       "    </tr>\n",
       "  </thead>\n",
       "  <tbody>\n",
       "    <tr>\n",
       "      <th>8711</th>\n",
       "      <td>8860a259b9fffff</td>\n",
       "      <td>8860a25995fffff</td>\n",
       "      <td>194</td>\n",
       "    </tr>\n",
       "    <tr>\n",
       "      <th>7937</th>\n",
       "      <td>8860a25995fffff</td>\n",
       "      <td>8860a259b9fffff</td>\n",
       "      <td>90</td>\n",
       "    </tr>\n",
       "    <tr>\n",
       "      <th>8725</th>\n",
       "      <td>8860a259b9fffff</td>\n",
       "      <td>8860a259bbfffff</td>\n",
       "      <td>82</td>\n",
       "    </tr>\n",
       "    <tr>\n",
       "      <th>8626</th>\n",
       "      <td>8860a259b9fffff</td>\n",
       "      <td>8860a24a6dfffff</td>\n",
       "      <td>80</td>\n",
       "    </tr>\n",
       "    <tr>\n",
       "      <th>1109</th>\n",
       "      <td>8860a24a6dfffff</td>\n",
       "      <td>8860a24b51fffff</td>\n",
       "      <td>79</td>\n",
       "    </tr>\n",
       "  </tbody>\n",
       "</table>\n",
       "</div>"
      ],
      "text/plain": [
       "          hex_id_pick      hex_id_drop  Trip\n",
       "8711  8860a259b9fffff  8860a25995fffff   194\n",
       "7937  8860a25995fffff  8860a259b9fffff    90\n",
       "8725  8860a259b9fffff  8860a259bbfffff    82\n",
       "8626  8860a259b9fffff  8860a24a6dfffff    80\n",
       "1109  8860a24a6dfffff  8860a24b51fffff    79"
      ]
     },
     "execution_count": 56,
     "metadata": {},
     "output_type": "execute_result"
    }
   ],
   "source": [
    "rapido_hex_geo2.head() "
   ]
  },
  {
   "cell_type": "code",
   "execution_count": 57,
   "metadata": {},
   "outputs": [],
   "source": [
    "rapido_hex_geo2[\"Hex pair (source_hexid, destination_hexid)\"] = rapido_hex_geo2[\"hex_id_pick\"].astype(str) + ' to ' + rapido_hex_geo2[\"hex_id_drop\"]\n",
    "rapido_hex_geo2 = rapido_hex_geo2.head()"
   ]
  },
  {
   "cell_type": "code",
   "execution_count": 58,
   "metadata": {},
   "outputs": [],
   "source": [
    "rapido_hex_geo3= rapido_hex_geo2[['Hex pair (source_hexid, destination_hexid)','Trip']]\n",
    "rapido_hex_geo3 = rapido_hex_geo3.reset_index(drop = True)"
   ]
  },
  {
   "cell_type": "code",
   "execution_count": 59,
   "metadata": {},
   "outputs": [
    {
     "data": {
      "text/html": [
       "<div>\n",
       "<style scoped>\n",
       "    .dataframe tbody tr th:only-of-type {\n",
       "        vertical-align: middle;\n",
       "    }\n",
       "\n",
       "    .dataframe tbody tr th {\n",
       "        vertical-align: top;\n",
       "    }\n",
       "\n",
       "    .dataframe thead th {\n",
       "        text-align: right;\n",
       "    }\n",
       "</style>\n",
       "<table border=\"1\" class=\"dataframe\">\n",
       "  <thead>\n",
       "    <tr style=\"text-align: right;\">\n",
       "      <th></th>\n",
       "      <th>Hex pair (source_hexid, destination_hexid)</th>\n",
       "      <th>Trip</th>\n",
       "    </tr>\n",
       "    <tr>\n",
       "      <th>Rank</th>\n",
       "      <th></th>\n",
       "      <th></th>\n",
       "    </tr>\n",
       "  </thead>\n",
       "  <tbody>\n",
       "    <tr>\n",
       "      <th>1</th>\n",
       "      <td>8860a259b9fffff to 8860a25995fffff</td>\n",
       "      <td>194</td>\n",
       "    </tr>\n",
       "    <tr>\n",
       "      <th>2</th>\n",
       "      <td>8860a25995fffff to 8860a259b9fffff</td>\n",
       "      <td>90</td>\n",
       "    </tr>\n",
       "    <tr>\n",
       "      <th>3</th>\n",
       "      <td>8860a259b9fffff to 8860a259bbfffff</td>\n",
       "      <td>82</td>\n",
       "    </tr>\n",
       "    <tr>\n",
       "      <th>4</th>\n",
       "      <td>8860a259b9fffff to 8860a24a6dfffff</td>\n",
       "      <td>80</td>\n",
       "    </tr>\n",
       "    <tr>\n",
       "      <th>5</th>\n",
       "      <td>8860a24a6dfffff to 8860a24b51fffff</td>\n",
       "      <td>79</td>\n",
       "    </tr>\n",
       "  </tbody>\n",
       "</table>\n",
       "</div>"
      ],
      "text/plain": [
       "     Hex pair (source_hexid, destination_hexid)  Trip\n",
       "Rank                                                 \n",
       "1            8860a259b9fffff to 8860a25995fffff   194\n",
       "2            8860a25995fffff to 8860a259b9fffff    90\n",
       "3            8860a259b9fffff to 8860a259bbfffff    82\n",
       "4            8860a259b9fffff to 8860a24a6dfffff    80\n",
       "5            8860a24a6dfffff to 8860a24b51fffff    79"
      ]
     },
     "execution_count": 59,
     "metadata": {},
     "output_type": "execute_result"
    }
   ],
   "source": [
    "rapido_hex_geo3.index = np.arange(1,len(rapido_hex_geo3)+1)\n",
    "rapido_hex_geo3.index.name='Rank'\n",
    "rapido_hex_geo3"
   ]
  }
 ],
 "metadata": {
  "kernelspec": {
   "display_name": "Python 3",
   "language": "python",
   "name": "python3"
  },
  "language_info": {
   "codemirror_mode": {
    "name": "ipython",
    "version": 3
   },
   "file_extension": ".py",
   "mimetype": "text/x-python",
   "name": "python",
   "nbconvert_exporter": "python",
   "pygments_lexer": "ipython3",
   "version": "3.7.3"
  }
 },
 "nbformat": 4,
 "nbformat_minor": 2
}
